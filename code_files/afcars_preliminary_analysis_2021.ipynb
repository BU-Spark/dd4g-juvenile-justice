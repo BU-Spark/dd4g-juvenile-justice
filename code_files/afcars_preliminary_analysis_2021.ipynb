{
 "cells": [
  {
   "cell_type": "code",
   "execution_count": 1,
   "metadata": {},
   "outputs": [],
   "source": [
    "import pandas as pd"
   ]
  },
  {
   "cell_type": "code",
   "execution_count": 2,
   "metadata": {},
   "outputs": [],
   "source": [
    "data= pd.read_csv('../data/AFCARS2000-2021/DATA2021.CSV')"
   ]
  },
  {
   "cell_type": "code",
   "execution_count": 3,
   "metadata": {},
   "outputs": [
    {
     "data": {
      "text/html": [
       "<div>\n",
       "<style scoped>\n",
       "    .dataframe tbody tr th:only-of-type {\n",
       "        vertical-align: middle;\n",
       "    }\n",
       "\n",
       "    .dataframe tbody tr th {\n",
       "        vertical-align: top;\n",
       "    }\n",
       "\n",
       "    .dataframe thead th {\n",
       "        text-align: right;\n",
       "    }\n",
       "</style>\n",
       "<table border=\"1\" class=\"dataframe\">\n",
       "  <thead>\n",
       "    <tr style=\"text-align: right;\">\n",
       "      <th></th>\n",
       "      <th>FY</th>\n",
       "      <th>Version</th>\n",
       "      <th>State</th>\n",
       "      <th>St</th>\n",
       "      <th>RepDatYr</th>\n",
       "      <th>RepDatMo</th>\n",
       "      <th>FIPSCode</th>\n",
       "      <th>RecNumbr</th>\n",
       "      <th>Sex</th>\n",
       "      <th>AmIAKN</th>\n",
       "      <th>...</th>\n",
       "      <th>EmotDist</th>\n",
       "      <th>OtherMed</th>\n",
       "      <th>EverAdpt</th>\n",
       "      <th>AgeAdopt</th>\n",
       "      <th>TotalRem</th>\n",
       "      <th>NumPlep</th>\n",
       "      <th>ManRem</th>\n",
       "      <th>PhyAbuse</th>\n",
       "      <th>SexAbuse</th>\n",
       "      <th>Neglect</th>\n",
       "    </tr>\n",
       "  </thead>\n",
       "  <tbody>\n",
       "    <tr>\n",
       "      <th>0</th>\n",
       "      <td>2020</td>\n",
       "      <td>1</td>\n",
       "      <td>1</td>\n",
       "      <td>AL</td>\n",
       "      <td>2021</td>\n",
       "      <td>3</td>\n",
       "      <td>8.0</td>\n",
       "      <td>000003283002</td>\n",
       "      <td>2.0</td>\n",
       "      <td>0.0</td>\n",
       "      <td>...</td>\n",
       "      <td>0.0</td>\n",
       "      <td>0.0</td>\n",
       "      <td>2.0</td>\n",
       "      <td>0.0</td>\n",
       "      <td>1.0</td>\n",
       "      <td>1.0</td>\n",
       "      <td>2.0</td>\n",
       "      <td>0.0</td>\n",
       "      <td>0.0</td>\n",
       "      <td>0.0</td>\n",
       "    </tr>\n",
       "    <tr>\n",
       "      <th>1</th>\n",
       "      <td>2020</td>\n",
       "      <td>1</td>\n",
       "      <td>1</td>\n",
       "      <td>AL</td>\n",
       "      <td>2021</td>\n",
       "      <td>3</td>\n",
       "      <td>8.0</td>\n",
       "      <td>000008140241</td>\n",
       "      <td>2.0</td>\n",
       "      <td>0.0</td>\n",
       "      <td>...</td>\n",
       "      <td>0.0</td>\n",
       "      <td>0.0</td>\n",
       "      <td>2.0</td>\n",
       "      <td>0.0</td>\n",
       "      <td>1.0</td>\n",
       "      <td>2.0</td>\n",
       "      <td>2.0</td>\n",
       "      <td>0.0</td>\n",
       "      <td>0.0</td>\n",
       "      <td>1.0</td>\n",
       "    </tr>\n",
       "    <tr>\n",
       "      <th>2</th>\n",
       "      <td>2020</td>\n",
       "      <td>1</td>\n",
       "      <td>1</td>\n",
       "      <td>AL</td>\n",
       "      <td>2021</td>\n",
       "      <td>3</td>\n",
       "      <td>8.0</td>\n",
       "      <td>000010190033</td>\n",
       "      <td>1.0</td>\n",
       "      <td>0.0</td>\n",
       "      <td>...</td>\n",
       "      <td>0.0</td>\n",
       "      <td>0.0</td>\n",
       "      <td>2.0</td>\n",
       "      <td>0.0</td>\n",
       "      <td>1.0</td>\n",
       "      <td>2.0</td>\n",
       "      <td>2.0</td>\n",
       "      <td>0.0</td>\n",
       "      <td>0.0</td>\n",
       "      <td>0.0</td>\n",
       "    </tr>\n",
       "    <tr>\n",
       "      <th>3</th>\n",
       "      <td>2020</td>\n",
       "      <td>1</td>\n",
       "      <td>1</td>\n",
       "      <td>AL</td>\n",
       "      <td>2021</td>\n",
       "      <td>3</td>\n",
       "      <td>8.0</td>\n",
       "      <td>000012980423</td>\n",
       "      <td>2.0</td>\n",
       "      <td>0.0</td>\n",
       "      <td>...</td>\n",
       "      <td>1.0</td>\n",
       "      <td>0.0</td>\n",
       "      <td>2.0</td>\n",
       "      <td>0.0</td>\n",
       "      <td>1.0</td>\n",
       "      <td>1.0</td>\n",
       "      <td>2.0</td>\n",
       "      <td>1.0</td>\n",
       "      <td>0.0</td>\n",
       "      <td>1.0</td>\n",
       "    </tr>\n",
       "    <tr>\n",
       "      <th>4</th>\n",
       "      <td>2020</td>\n",
       "      <td>1</td>\n",
       "      <td>1</td>\n",
       "      <td>AL</td>\n",
       "      <td>2021</td>\n",
       "      <td>3</td>\n",
       "      <td>8.0</td>\n",
       "      <td>000016356333</td>\n",
       "      <td>2.0</td>\n",
       "      <td>0.0</td>\n",
       "      <td>...</td>\n",
       "      <td>0.0</td>\n",
       "      <td>0.0</td>\n",
       "      <td>2.0</td>\n",
       "      <td>0.0</td>\n",
       "      <td>1.0</td>\n",
       "      <td>1.0</td>\n",
       "      <td>2.0</td>\n",
       "      <td>0.0</td>\n",
       "      <td>1.0</td>\n",
       "      <td>0.0</td>\n",
       "    </tr>\n",
       "    <tr>\n",
       "      <th>...</th>\n",
       "      <td>...</td>\n",
       "      <td>...</td>\n",
       "      <td>...</td>\n",
       "      <td>...</td>\n",
       "      <td>...</td>\n",
       "      <td>...</td>\n",
       "      <td>...</td>\n",
       "      <td>...</td>\n",
       "      <td>...</td>\n",
       "      <td>...</td>\n",
       "      <td>...</td>\n",
       "      <td>...</td>\n",
       "      <td>...</td>\n",
       "      <td>...</td>\n",
       "      <td>...</td>\n",
       "      <td>...</td>\n",
       "      <td>...</td>\n",
       "      <td>...</td>\n",
       "      <td>...</td>\n",
       "      <td>...</td>\n",
       "      <td>...</td>\n",
       "    </tr>\n",
       "    <tr>\n",
       "      <th>631888</th>\n",
       "      <td>2020</td>\n",
       "      <td>1</td>\n",
       "      <td>72</td>\n",
       "      <td>PR</td>\n",
       "      <td>2020</td>\n",
       "      <td>9</td>\n",
       "      <td>8.0</td>\n",
       "      <td>997525892893</td>\n",
       "      <td>1.0</td>\n",
       "      <td>0.0</td>\n",
       "      <td>...</td>\n",
       "      <td>0.0</td>\n",
       "      <td>0.0</td>\n",
       "      <td>3.0</td>\n",
       "      <td>0.0</td>\n",
       "      <td>1.0</td>\n",
       "      <td>8.0</td>\n",
       "      <td>2.0</td>\n",
       "      <td>0.0</td>\n",
       "      <td>1.0</td>\n",
       "      <td>1.0</td>\n",
       "    </tr>\n",
       "    <tr>\n",
       "      <th>631889</th>\n",
       "      <td>2020</td>\n",
       "      <td>1</td>\n",
       "      <td>72</td>\n",
       "      <td>PR</td>\n",
       "      <td>2020</td>\n",
       "      <td>9</td>\n",
       "      <td>8.0</td>\n",
       "      <td>998525804293</td>\n",
       "      <td>1.0</td>\n",
       "      <td>0.0</td>\n",
       "      <td>...</td>\n",
       "      <td>0.0</td>\n",
       "      <td>0.0</td>\n",
       "      <td>3.0</td>\n",
       "      <td>0.0</td>\n",
       "      <td>1.0</td>\n",
       "      <td>6.0</td>\n",
       "      <td>2.0</td>\n",
       "      <td>0.0</td>\n",
       "      <td>0.0</td>\n",
       "      <td>1.0</td>\n",
       "    </tr>\n",
       "    <tr>\n",
       "      <th>631890</th>\n",
       "      <td>2020</td>\n",
       "      <td>1</td>\n",
       "      <td>72</td>\n",
       "      <td>PR</td>\n",
       "      <td>2021</td>\n",
       "      <td>3</td>\n",
       "      <td>8.0</td>\n",
       "      <td>999325897393</td>\n",
       "      <td>1.0</td>\n",
       "      <td>0.0</td>\n",
       "      <td>...</td>\n",
       "      <td>0.0</td>\n",
       "      <td>0.0</td>\n",
       "      <td>2.0</td>\n",
       "      <td>0.0</td>\n",
       "      <td>1.0</td>\n",
       "      <td>2.0</td>\n",
       "      <td>2.0</td>\n",
       "      <td>0.0</td>\n",
       "      <td>0.0</td>\n",
       "      <td>0.0</td>\n",
       "    </tr>\n",
       "    <tr>\n",
       "      <th>631891</th>\n",
       "      <td>2020</td>\n",
       "      <td>1</td>\n",
       "      <td>72</td>\n",
       "      <td>PR</td>\n",
       "      <td>2020</td>\n",
       "      <td>3</td>\n",
       "      <td>8.0</td>\n",
       "      <td>999625828693</td>\n",
       "      <td>2.0</td>\n",
       "      <td>0.0</td>\n",
       "      <td>...</td>\n",
       "      <td>0.0</td>\n",
       "      <td>0.0</td>\n",
       "      <td>2.0</td>\n",
       "      <td>0.0</td>\n",
       "      <td>1.0</td>\n",
       "      <td>4.0</td>\n",
       "      <td>2.0</td>\n",
       "      <td>0.0</td>\n",
       "      <td>0.0</td>\n",
       "      <td>1.0</td>\n",
       "    </tr>\n",
       "    <tr>\n",
       "      <th>631892</th>\n",
       "      <td>2020</td>\n",
       "      <td>1</td>\n",
       "      <td>72</td>\n",
       "      <td>PR</td>\n",
       "      <td>2020</td>\n",
       "      <td>9</td>\n",
       "      <td>8.0</td>\n",
       "      <td>999925860793</td>\n",
       "      <td>2.0</td>\n",
       "      <td>0.0</td>\n",
       "      <td>...</td>\n",
       "      <td>0.0</td>\n",
       "      <td>0.0</td>\n",
       "      <td>2.0</td>\n",
       "      <td>0.0</td>\n",
       "      <td>1.0</td>\n",
       "      <td>3.0</td>\n",
       "      <td>2.0</td>\n",
       "      <td>0.0</td>\n",
       "      <td>0.0</td>\n",
       "      <td>1.0</td>\n",
       "    </tr>\n",
       "  </tbody>\n",
       "</table>\n",
       "<p>631893 rows × 30 columns</p>\n",
       "</div>"
      ],
      "text/plain": [
       "          FY  Version  State  St  RepDatYr  RepDatMo  FIPSCode      RecNumbr  \\\n",
       "0       2020        1      1  AL      2021         3       8.0  000003283002   \n",
       "1       2020        1      1  AL      2021         3       8.0  000008140241   \n",
       "2       2020        1      1  AL      2021         3       8.0  000010190033   \n",
       "3       2020        1      1  AL      2021         3       8.0  000012980423   \n",
       "4       2020        1      1  AL      2021         3       8.0  000016356333   \n",
       "...      ...      ...    ...  ..       ...       ...       ...           ...   \n",
       "631888  2020        1     72  PR      2020         9       8.0  997525892893   \n",
       "631889  2020        1     72  PR      2020         9       8.0  998525804293   \n",
       "631890  2020        1     72  PR      2021         3       8.0  999325897393   \n",
       "631891  2020        1     72  PR      2020         3       8.0  999625828693   \n",
       "631892  2020        1     72  PR      2020         9       8.0  999925860793   \n",
       "\n",
       "        Sex  AmIAKN  ...  EmotDist  OtherMed  EverAdpt  AgeAdopt  TotalRem  \\\n",
       "0       2.0     0.0  ...       0.0       0.0       2.0       0.0       1.0   \n",
       "1       2.0     0.0  ...       0.0       0.0       2.0       0.0       1.0   \n",
       "2       1.0     0.0  ...       0.0       0.0       2.0       0.0       1.0   \n",
       "3       2.0     0.0  ...       1.0       0.0       2.0       0.0       1.0   \n",
       "4       2.0     0.0  ...       0.0       0.0       2.0       0.0       1.0   \n",
       "...     ...     ...  ...       ...       ...       ...       ...       ...   \n",
       "631888  1.0     0.0  ...       0.0       0.0       3.0       0.0       1.0   \n",
       "631889  1.0     0.0  ...       0.0       0.0       3.0       0.0       1.0   \n",
       "631890  1.0     0.0  ...       0.0       0.0       2.0       0.0       1.0   \n",
       "631891  2.0     0.0  ...       0.0       0.0       2.0       0.0       1.0   \n",
       "631892  2.0     0.0  ...       0.0       0.0       2.0       0.0       1.0   \n",
       "\n",
       "        NumPlep  ManRem  PhyAbuse  SexAbuse  Neglect  \n",
       "0           1.0     2.0       0.0       0.0      0.0  \n",
       "1           2.0     2.0       0.0       0.0      1.0  \n",
       "2           2.0     2.0       0.0       0.0      0.0  \n",
       "3           1.0     2.0       1.0       0.0      1.0  \n",
       "4           1.0     2.0       0.0       1.0      0.0  \n",
       "...         ...     ...       ...       ...      ...  \n",
       "631888      8.0     2.0       0.0       1.0      1.0  \n",
       "631889      6.0     2.0       0.0       0.0      1.0  \n",
       "631890      2.0     2.0       0.0       0.0      0.0  \n",
       "631891      4.0     2.0       0.0       0.0      1.0  \n",
       "631892      3.0     2.0       0.0       0.0      1.0  \n",
       "\n",
       "[631893 rows x 30 columns]"
      ]
     },
     "execution_count": 3,
     "metadata": {},
     "output_type": "execute_result"
    }
   ],
   "source": [
    "data"
   ]
  },
  {
   "attachments": {},
   "cell_type": "markdown",
   "metadata": {},
   "source": [
    "### Preliminary Analysis"
   ]
  },
  {
   "cell_type": "code",
   "execution_count": 45,
   "metadata": {},
   "outputs": [
    {
     "data": {
      "text/plain": [
       "array([2020])"
      ]
     },
     "execution_count": 45,
     "metadata": {},
     "output_type": "execute_result"
    }
   ],
   "source": [
    "data['FY'].unique()"
   ]
  },
  {
   "cell_type": "code",
   "execution_count": 5,
   "metadata": {},
   "outputs": [
    {
     "data": {
      "text/plain": [
       "array([1])"
      ]
     },
     "execution_count": 5,
     "metadata": {},
     "output_type": "execute_result"
    }
   ],
   "source": [
    "data['Version'].unique()\n"
   ]
  },
  {
   "cell_type": "code",
   "execution_count": 6,
   "metadata": {},
   "outputs": [
    {
     "data": {
      "text/plain": [
       "array([ 1,  2,  4,  5,  6,  8,  9, 10, 11, 12, 13, 15, 16, 17, 18, 19, 20,\n",
       "       21, 22, 24, 25, 26, 27, 28, 29, 30, 31, 32, 33, 34, 35, 36, 37, 38,\n",
       "       39, 40, 42, 44, 45, 46, 47, 48, 49, 50, 51, 53, 54, 55, 72, 23, 41,\n",
       "       56])"
      ]
     },
     "execution_count": 6,
     "metadata": {},
     "output_type": "execute_result"
    }
   ],
   "source": [
    "data['State'].unique()\n"
   ]
  },
  {
   "cell_type": "code",
   "execution_count": 7,
   "metadata": {},
   "outputs": [
    {
     "data": {
      "text/plain": [
       "array(['AL', 'AK', 'AZ', 'AR', 'CA', 'CO', 'CT', 'DE', 'DC', 'FL', 'GA',\n",
       "       'HI', 'ID', 'IL', 'IN', 'IA', 'KS', 'KY', 'LA', 'MD', 'MA', 'MI',\n",
       "       'MN', 'MS', 'MO', 'MT', 'NE', 'NV', 'NH', 'NJ', 'NM', 'NY', 'NC',\n",
       "       'ND', 'OH', 'OK', 'PA', 'RI', 'SC', 'SD', 'TN', 'TX', 'UT', 'VT',\n",
       "       'VA', 'WA', 'WV', 'WI', 'PR', 'ME', 'OR', 'WY'], dtype=object)"
      ]
     },
     "execution_count": 7,
     "metadata": {},
     "output_type": "execute_result"
    }
   ],
   "source": [
    "data['St'].unique()"
   ]
  },
  {
   "cell_type": "code",
   "execution_count": 8,
   "metadata": {},
   "outputs": [
    {
     "data": {
      "text/plain": [
       "array([2021, 2020])"
      ]
     },
     "execution_count": 8,
     "metadata": {},
     "output_type": "execute_result"
    }
   ],
   "source": [
    "data['RepDatYr'].unique()"
   ]
  },
  {
   "cell_type": "code",
   "execution_count": 9,
   "metadata": {},
   "outputs": [
    {
     "data": {
      "text/plain": [
       "array([3, 9])"
      ]
     },
     "execution_count": 9,
     "metadata": {},
     "output_type": "execute_result"
    }
   ],
   "source": [
    "data['RepDatMo'].unique()"
   ]
  },
  {
   "attachments": {},
   "cell_type": "markdown",
   "metadata": {},
   "source": [
    "Local Agency FIPS Code:"
   ]
  },
  {
   "cell_type": "code",
   "execution_count": null,
   "metadata": {},
   "outputs": [
    {
     "data": {
      "text/plain": [
       "array([8.0000e+00, 2.0200e+03, 4.0130e+03, 4.0190e+03, 6.0590e+03,\n",
       "       6.0290e+03, 6.0370e+03, 6.0190e+03, 6.0730e+03, 6.0010e+03,\n",
       "       6.0770e+03, 6.0650e+03, 6.0670e+03, 6.0710e+03, 6.0850e+03,\n",
       "       8.0310e+03, 8.0410e+03, 9.0030e+03, 1.2081e+04, 1.2127e+04,\n",
       "       1.2011e+04, 1.2105e+04, 1.2095e+04, 1.2083e+04, 1.2057e+04,\n",
       "       1.2086e+04, 1.2009e+04, 1.2103e+04, 1.2031e+04, 1.3089e+04,\n",
       "       1.5003e+04, 1.7031e+04, 1.7163e+04, 1.7167e+04, 1.7143e+04,\n",
       "       1.7201e+04, 1.8089e+04, 1.8003e+04, 1.8097e+04, 1.9153e+04,\n",
       "       2.5017e+04, 2.5025e+04, 2.5009e+04, 2.5013e+04, 2.5005e+04,\n",
       "       2.5027e+04, 2.7123e+04, 2.7053e+04, 2.9095e+04, 3.0111e+04,\n",
       "       3.1055e+04, 3.2003e+04, 3.6061e+04, 3.6029e+04, 3.7051e+04,\n",
       "       3.9035e+04, 3.9061e+04, 3.9049e+04, 3.9095e+04, 3.9153e+04,\n",
       "       4.0109e+04, 4.2101e+04, 4.2003e+04, 4.4007e+04, 4.7037e+04,\n",
       "       4.7157e+04, 4.7093e+04, 4.8309e+04, 4.8453e+04, 4.8201e+04,\n",
       "       4.8113e+04, 4.8439e+04, 4.8029e+04, 4.8027e+04, 4.9035e+04,\n",
       "       5.4039e+04, 1.0730e+03, 4.0210e+03, 6.1070e+03,        nan,\n",
       "       9.0090e+03, 1.2101e+04, 1.2071e+04, 1.2099e+04, 2.0173e+04,\n",
       "       2.1111e+04, 2.4510e+04, 2.6081e+04, 2.6163e+04, 2.9189e+04,\n",
       "       3.2031e+04, 3.5001e+04, 4.0143e+04, 4.1051e+04, 4.1039e+04,\n",
       "       4.5045e+04, 4.8303e+04, 5.3033e+04, 5.3053e+04, 5.3061e+04,\n",
       "       5.3063e+04, 5.5079e+04])"
      ]
     },
     "execution_count": 10,
     "metadata": {},
     "output_type": "execute_result"
    }
   ],
   "source": [
    "data['FIPSCode'].unique()"
   ]
  },
  {
   "cell_type": "code",
   "execution_count": 11,
   "metadata": {},
   "outputs": [
    {
     "data": {
      "text/html": [
       "<div>\n",
       "<style scoped>\n",
       "    .dataframe tbody tr th:only-of-type {\n",
       "        vertical-align: middle;\n",
       "    }\n",
       "\n",
       "    .dataframe tbody tr th {\n",
       "        vertical-align: top;\n",
       "    }\n",
       "\n",
       "    .dataframe thead th {\n",
       "        text-align: right;\n",
       "    }\n",
       "</style>\n",
       "<table border=\"1\" class=\"dataframe\">\n",
       "  <thead>\n",
       "    <tr style=\"text-align: right;\">\n",
       "      <th></th>\n",
       "      <th>FY</th>\n",
       "      <th>Version</th>\n",
       "      <th>State</th>\n",
       "      <th>St</th>\n",
       "      <th>RepDatYr</th>\n",
       "      <th>RepDatMo</th>\n",
       "      <th>FIPSCode</th>\n",
       "      <th>RecNumbr</th>\n",
       "      <th>Sex</th>\n",
       "      <th>AmIAKN</th>\n",
       "      <th>...</th>\n",
       "      <th>EmotDist</th>\n",
       "      <th>OtherMed</th>\n",
       "      <th>EverAdpt</th>\n",
       "      <th>AgeAdopt</th>\n",
       "      <th>TotalRem</th>\n",
       "      <th>NumPlep</th>\n",
       "      <th>ManRem</th>\n",
       "      <th>PhyAbuse</th>\n",
       "      <th>SexAbuse</th>\n",
       "      <th>Neglect</th>\n",
       "    </tr>\n",
       "  </thead>\n",
       "  <tbody>\n",
       "    <tr>\n",
       "      <th>0</th>\n",
       "      <td>2020</td>\n",
       "      <td>1</td>\n",
       "      <td>1</td>\n",
       "      <td>AL</td>\n",
       "      <td>2021</td>\n",
       "      <td>3</td>\n",
       "      <td>8.0</td>\n",
       "      <td>000003283002</td>\n",
       "      <td>2.0</td>\n",
       "      <td>0.0</td>\n",
       "      <td>...</td>\n",
       "      <td>0.0</td>\n",
       "      <td>0.0</td>\n",
       "      <td>2.0</td>\n",
       "      <td>0.0</td>\n",
       "      <td>1.0</td>\n",
       "      <td>1.0</td>\n",
       "      <td>2.0</td>\n",
       "      <td>0.0</td>\n",
       "      <td>0.0</td>\n",
       "      <td>0.0</td>\n",
       "    </tr>\n",
       "    <tr>\n",
       "      <th>1</th>\n",
       "      <td>2020</td>\n",
       "      <td>1</td>\n",
       "      <td>1</td>\n",
       "      <td>AL</td>\n",
       "      <td>2021</td>\n",
       "      <td>3</td>\n",
       "      <td>8.0</td>\n",
       "      <td>000008140241</td>\n",
       "      <td>2.0</td>\n",
       "      <td>0.0</td>\n",
       "      <td>...</td>\n",
       "      <td>0.0</td>\n",
       "      <td>0.0</td>\n",
       "      <td>2.0</td>\n",
       "      <td>0.0</td>\n",
       "      <td>1.0</td>\n",
       "      <td>2.0</td>\n",
       "      <td>2.0</td>\n",
       "      <td>0.0</td>\n",
       "      <td>0.0</td>\n",
       "      <td>1.0</td>\n",
       "    </tr>\n",
       "    <tr>\n",
       "      <th>2</th>\n",
       "      <td>2020</td>\n",
       "      <td>1</td>\n",
       "      <td>1</td>\n",
       "      <td>AL</td>\n",
       "      <td>2021</td>\n",
       "      <td>3</td>\n",
       "      <td>8.0</td>\n",
       "      <td>000010190033</td>\n",
       "      <td>1.0</td>\n",
       "      <td>0.0</td>\n",
       "      <td>...</td>\n",
       "      <td>0.0</td>\n",
       "      <td>0.0</td>\n",
       "      <td>2.0</td>\n",
       "      <td>0.0</td>\n",
       "      <td>1.0</td>\n",
       "      <td>2.0</td>\n",
       "      <td>2.0</td>\n",
       "      <td>0.0</td>\n",
       "      <td>0.0</td>\n",
       "      <td>0.0</td>\n",
       "    </tr>\n",
       "    <tr>\n",
       "      <th>3</th>\n",
       "      <td>2020</td>\n",
       "      <td>1</td>\n",
       "      <td>1</td>\n",
       "      <td>AL</td>\n",
       "      <td>2021</td>\n",
       "      <td>3</td>\n",
       "      <td>8.0</td>\n",
       "      <td>000012980423</td>\n",
       "      <td>2.0</td>\n",
       "      <td>0.0</td>\n",
       "      <td>...</td>\n",
       "      <td>1.0</td>\n",
       "      <td>0.0</td>\n",
       "      <td>2.0</td>\n",
       "      <td>0.0</td>\n",
       "      <td>1.0</td>\n",
       "      <td>1.0</td>\n",
       "      <td>2.0</td>\n",
       "      <td>1.0</td>\n",
       "      <td>0.0</td>\n",
       "      <td>1.0</td>\n",
       "    </tr>\n",
       "    <tr>\n",
       "      <th>4</th>\n",
       "      <td>2020</td>\n",
       "      <td>1</td>\n",
       "      <td>1</td>\n",
       "      <td>AL</td>\n",
       "      <td>2021</td>\n",
       "      <td>3</td>\n",
       "      <td>8.0</td>\n",
       "      <td>000016356333</td>\n",
       "      <td>2.0</td>\n",
       "      <td>0.0</td>\n",
       "      <td>...</td>\n",
       "      <td>0.0</td>\n",
       "      <td>0.0</td>\n",
       "      <td>2.0</td>\n",
       "      <td>0.0</td>\n",
       "      <td>1.0</td>\n",
       "      <td>1.0</td>\n",
       "      <td>2.0</td>\n",
       "      <td>0.0</td>\n",
       "      <td>1.0</td>\n",
       "      <td>0.0</td>\n",
       "    </tr>\n",
       "  </tbody>\n",
       "</table>\n",
       "<p>5 rows × 30 columns</p>\n",
       "</div>"
      ],
      "text/plain": [
       "     FY  Version  State  St  RepDatYr  RepDatMo  FIPSCode      RecNumbr  Sex  \\\n",
       "0  2020        1      1  AL      2021         3       8.0  000003283002  2.0   \n",
       "1  2020        1      1  AL      2021         3       8.0  000008140241  2.0   \n",
       "2  2020        1      1  AL      2021         3       8.0  000010190033  1.0   \n",
       "3  2020        1      1  AL      2021         3       8.0  000012980423  2.0   \n",
       "4  2020        1      1  AL      2021         3       8.0  000016356333  2.0   \n",
       "\n",
       "   AmIAKN  ...  EmotDist  OtherMed  EverAdpt  AgeAdopt  TotalRem  NumPlep  \\\n",
       "0     0.0  ...       0.0       0.0       2.0       0.0       1.0      1.0   \n",
       "1     0.0  ...       0.0       0.0       2.0       0.0       1.0      2.0   \n",
       "2     0.0  ...       0.0       0.0       2.0       0.0       1.0      2.0   \n",
       "3     0.0  ...       1.0       0.0       2.0       0.0       1.0      1.0   \n",
       "4     0.0  ...       0.0       0.0       2.0       0.0       1.0      1.0   \n",
       "\n",
       "   ManRem  PhyAbuse  SexAbuse  Neglect  \n",
       "0     2.0       0.0       0.0      0.0  \n",
       "1     2.0       0.0       0.0      1.0  \n",
       "2     2.0       0.0       0.0      0.0  \n",
       "3     2.0       1.0       0.0      1.0  \n",
       "4     2.0       0.0       1.0      0.0  \n",
       "\n",
       "[5 rows x 30 columns]"
      ]
     },
     "execution_count": 11,
     "metadata": {},
     "output_type": "execute_result"
    }
   ],
   "source": [
    "data.head()"
   ]
  },
  {
   "cell_type": "code",
   "execution_count": 13,
   "metadata": {},
   "outputs": [
    {
     "data": {
      "text/plain": [
       "631877"
      ]
     },
     "execution_count": 13,
     "metadata": {},
     "output_type": "execute_result"
    }
   ],
   "source": [
    "data['RecNumbr'].nunique()"
   ]
  },
  {
   "attachments": {},
   "cell_type": "markdown",
   "metadata": {},
   "source": [
    "Child Sex:\n",
    "\n",
    "| Value | Value Label |\n",
    "| --- | --- |\n",
    "| 1 | Male |\n",
    "| 2 | Female |"
   ]
  },
  {
   "cell_type": "code",
   "execution_count": 65,
   "metadata": {},
   "outputs": [
    {
     "data": {
      "text/plain": [
       "array([ 2.,  1., nan])"
      ]
     },
     "execution_count": 65,
     "metadata": {},
     "output_type": "execute_result"
    }
   ],
   "source": [
    "data['Sex'].unique()"
   ]
  },
  {
   "attachments": {},
   "cell_type": "markdown",
   "metadata": {},
   "source": [
    "Child Race American Indian or Alaska Native:\n",
    "\n",
    "| Value | Value Label |\n",
    "| --- | --- |\n",
    "| 0 | Does Not Apply |\n",
    "| 1 | Applies |"
   ]
  },
  {
   "cell_type": "code",
   "execution_count": 17,
   "metadata": {},
   "outputs": [
    {
     "data": {
      "text/plain": [
       "array([ 0.,  1., nan])"
      ]
     },
     "execution_count": 17,
     "metadata": {},
     "output_type": "execute_result"
    }
   ],
   "source": [
    "data['AmIAKN'].unique()"
   ]
  },
  {
   "cell_type": "code",
   "execution_count": 20,
   "metadata": {},
   "outputs": [
    {
     "data": {
      "text/plain": [
       "array([ 0.,  1., nan])"
      ]
     },
     "execution_count": 20,
     "metadata": {},
     "output_type": "execute_result"
    }
   ],
   "source": [
    "data['Asian'].unique()"
   ]
  },
  {
   "cell_type": "code",
   "execution_count": 21,
   "metadata": {},
   "outputs": [
    {
     "data": {
      "text/plain": [
       "array([ 1.,  0., nan])"
      ]
     },
     "execution_count": 21,
     "metadata": {},
     "output_type": "execute_result"
    }
   ],
   "source": [
    "data['BlkAfrAm'].unique()"
   ]
  },
  {
   "attachments": {},
   "cell_type": "markdown",
   "metadata": {},
   "source": [
    "Child Race Native Hawaiian or Other Pacific Islander:\n",
    "\n",
    "\n",
    "| Value | Value Label |\n",
    "| --- | --- |\n",
    "| 0 | Does Not Apply |\n",
    "| 1 | Applies |\n"
   ]
  },
  {
   "cell_type": "code",
   "execution_count": 22,
   "metadata": {},
   "outputs": [
    {
     "data": {
      "text/plain": [
       "array([ 0.,  1., nan])"
      ]
     },
     "execution_count": 22,
     "metadata": {},
     "output_type": "execute_result"
    }
   ],
   "source": [
    "data['HawaiiPI'].unique()"
   ]
  },
  {
   "cell_type": "code",
   "execution_count": 23,
   "metadata": {},
   "outputs": [
    {
     "data": {
      "text/plain": [
       "array([ 0.,  1., nan])"
      ]
     },
     "execution_count": 23,
     "metadata": {},
     "output_type": "execute_result"
    }
   ],
   "source": [
    "data['White'].unique()"
   ]
  },
  {
   "attachments": {},
   "cell_type": "markdown",
   "metadata": {},
   "source": [
    "Child Race Unable to Determine:\n",
    "\n",
    "\n",
    "• The child is very young or severely disabled and no person is available to determine the child's race.\n",
    "• ‘‘Unable to determine’’ is also used if the parent, relative or guardian is incapacitated or unwilling to identify the child’s race.\n",
    "• If one of the races is selected (coded as 1), this value should not also be selected.\n",
    "\n",
    "\n",
    "| Value | Value Label |\n",
    "| --- | --- |\n",
    "| 0 | Does Not Apply |\n",
    "| 1 | Applies |\n"
   ]
  },
  {
   "cell_type": "code",
   "execution_count": 26,
   "metadata": {},
   "outputs": [
    {
     "data": {
      "text/plain": [
       "array([ 0.,  1., nan])"
      ]
     },
     "execution_count": 26,
     "metadata": {},
     "output_type": "execute_result"
    }
   ],
   "source": [
    "data['UnToDetm'].unique()"
   ]
  },
  {
   "attachments": {},
   "cell_type": "markdown",
   "metadata": {},
   "source": [
    "Child Hispanic or Latino Ethnicity:\n",
    "\n",
    "Definition:\n",
    "The child is of Mexican, Puerto Rican, Cuban, Central or South American origin, or a person of other Spanish cultural origin. Whether or not a person is Hispanic or Latino is determined by how they define themselves or by how others define them. In the case of young children, parents determine the ethnicity of the child.\n",
    "\n",
    "Guidance:\n",
    "‘‘Unable to Determine’’ is used when the child is very young or is severely disabled and no person is available to determine whether or not the child is Hispanic or Latino. ‘‘Unable to determine’’ is also used if the parent, relative or guardian is unwilling to identify the child’s ethnicity.\n",
    "People who identify their origin as Spanish, Hispanic, or Latino may be of any race. Thus, the percent Hispanic should not be added to percentages for racial categories.\n",
    "Origin can be viewed as the heritage, nationality group, lineage, or country of birth of the person or the person's parents or ancestors before their arrival in the United States.\n",
    "\n",
    "\n",
    "| Value | Value Label |\n",
    "| --- | --- |\n",
    "| 1 | Yes |\n",
    "| 2 | No |\n",
    "| 3 | Unable to Determine |\n"
   ]
  },
  {
   "cell_type": "code",
   "execution_count": 27,
   "metadata": {},
   "outputs": [
    {
     "data": {
      "text/plain": [
       "array([ 2.,  1.,  3., nan])"
      ]
     },
     "execution_count": 27,
     "metadata": {},
     "output_type": "execute_result"
    }
   ],
   "source": [
    "data['HisOrgin'].unique()"
   ]
  },
  {
   "attachments": {},
   "cell_type": "markdown",
   "metadata": {},
   "source": [
    "Child Has Been Clinically Diagnosed with Disability:\n",
    "\n",
    "* Yes indicates that a qualified professional has clinically diagnosed the child as having at least one of the disabilities listed in items #19 through #22.\n",
    "* No indicates that a qualified professional has conducted a clinical assessment of the child and has determined that the child has no disabilities.\n",
    "* Not yet determined indicates that a clinical assessment of the child by a qualified professional has not been conducted.\n",
    "\n",
    "| Value | Value Label |\n",
    "| --- | --- |\n",
    "| 1 | Yes |\n",
    "| 2 | No |\n",
    "| 3 | Not Yet Determined |"
   ]
  },
  {
   "cell_type": "code",
   "execution_count": 28,
   "metadata": {},
   "outputs": [
    {
     "data": {
      "text/plain": [
       "array([ 1.,  2.,  3., nan])"
      ]
     },
     "execution_count": 28,
     "metadata": {},
     "output_type": "execute_result"
    }
   ],
   "source": [
    "data['ClinDis'].unique()"
   ]
  },
  {
   "attachments": {},
   "cell_type": "markdown",
   "metadata": {},
   "source": [
    "Mental Retardation:\n",
    "\n",
    "Significantly subaverage general cognitive and motor functioning existing concurrently with deficits in adaptive behavior manifested during the developmental period that adversely affect a child's/youth's socialization and learning.\n",
    "\n",
    "\n",
    "| Value | Value Label |\n",
    "| --- | --- |\n",
    "| 0 | Does Not Apply |\n",
    "| 1 | Applies |\n"
   ]
  },
  {
   "cell_type": "code",
   "execution_count": 29,
   "metadata": {},
   "outputs": [
    {
     "data": {
      "text/plain": [
       "array([ 1.,  0., nan])"
      ]
     },
     "execution_count": 29,
     "metadata": {},
     "output_type": "execute_result"
    }
   ],
   "source": [
    "data['MR'].unique()"
   ]
  },
  {
   "attachments": {},
   "cell_type": "markdown",
   "metadata": {},
   "source": [
    "Visually or Hearing Impaired:\n",
    "Having a visual impairment that may significantly affect educational performance or development; or a hearing impairment, whether permanent or fluctuating, that adversely affects educational performance.\n",
    "\n",
    "| Value | Value Label |\n",
    "| --- | --- |\n",
    "| 0 | Does Not Apply |\n",
    "| 1 | Applies |"
   ]
  },
  {
   "cell_type": "code",
   "execution_count": 31,
   "metadata": {},
   "outputs": [
    {
     "data": {
      "text/plain": [
       "array([ 0., nan,  1.])"
      ]
     },
     "execution_count": 31,
     "metadata": {},
     "output_type": "execute_result"
    }
   ],
   "source": [
    "data['VisHear'].unique()"
   ]
  },
  {
   "attachments": {},
   "cell_type": "markdown",
   "metadata": {},
   "source": [
    "Physically Disabled:\n",
    "\n",
    "A physical condition that adversely affects the child's day-to-day motor functioning, such as cerebral palsy, spina bifida, multiple sclerosis, orthopedic impairments, and other physical disabilities.\n",
    "\n",
    "| Value | Value Label |\n",
    "| --- | --- |\n",
    "| 0 | Does Not Apply |\n",
    "| 1 | Applies |"
   ]
  },
  {
   "cell_type": "code",
   "execution_count": 32,
   "metadata": {},
   "outputs": [
    {
     "data": {
      "text/plain": [
       "array([ 0., nan,  1.])"
      ]
     },
     "execution_count": 32,
     "metadata": {},
     "output_type": "execute_result"
    }
   ],
   "source": [
    "data['PhyDis'].unique()"
   ]
  },
  {
   "attachments": {},
   "cell_type": "markdown",
   "metadata": {},
   "source": [
    "Emotionally Disturbed:\n",
    "\n",
    "| Value | Value Label |\n",
    "| --- | --- |\n",
    "| 0 | Does Not Apply |\n",
    "| 1 | Applies |"
   ]
  },
  {
   "cell_type": "code",
   "execution_count": 33,
   "metadata": {},
   "outputs": [
    {
     "data": {
      "text/plain": [
       "array([ 0.,  1., nan])"
      ]
     },
     "execution_count": 33,
     "metadata": {},
     "output_type": "execute_result"
    }
   ],
   "source": [
    "data['EmotDist'].unique()"
   ]
  },
  {
   "attachments": {},
   "cell_type": "markdown",
   "metadata": {},
   "source": [
    "Other Medically Diagnosed Condition Requiring Special Care:\n",
    "\n",
    "| Value | Value Label |\n",
    "| --- | --- |\n",
    "| 0 | Does Not Apply |\n",
    "| 1 | Applies |"
   ]
  },
  {
   "cell_type": "code",
   "execution_count": 34,
   "metadata": {},
   "outputs": [
    {
     "data": {
      "text/plain": [
       "array([ 0., nan,  1.])"
      ]
     },
     "execution_count": 34,
     "metadata": {},
     "output_type": "execute_result"
    }
   ],
   "source": [
    "data['OtherMed'].unique()"
   ]
  },
  {
   "attachments": {},
   "cell_type": "markdown",
   "metadata": {},
   "source": [
    "Child Has Previously Been Adopted:\n",
    "\n",
    "This value is “yes” only if a child has been adopted before the current/most recent removal episode.\n",
    "‘‘Unable to Determine’’: the child has been abandoned or the child’s parent(s) are otherwise not available to provide the information.\n",
    "\n",
    "\n",
    "| Value | Value Label |\n",
    "| --- | --- |\n",
    "| 1 | Yes |\n",
    "| 2 | No |\n",
    "| 3 | Not Yet Determined |"
   ]
  },
  {
   "cell_type": "code",
   "execution_count": 35,
   "metadata": {},
   "outputs": [
    {
     "data": {
      "text/plain": [
       "array([ 2.,  1., nan,  3.])"
      ]
     },
     "execution_count": 35,
     "metadata": {},
     "output_type": "execute_result"
    }
   ],
   "source": [
    "data['EverAdpt'].unique()"
   ]
  },
  {
   "cell_type": "code",
   "execution_count": 36,
   "metadata": {},
   "outputs": [
    {
     "data": {
      "text/plain": [
       "Index(['FY', 'Version', 'State', 'St', 'RepDatYr', 'RepDatMo', 'FIPSCode',\n",
       "       'RecNumbr', 'Sex', 'AmIAKN', 'Asian', 'BlkAfrAm', 'HawaiiPI', 'White',\n",
       "       'UnToDetm', 'HisOrgin', 'ClinDis', 'MR', 'VisHear', 'PhyDis',\n",
       "       'EmotDist', 'OtherMed', 'EverAdpt', 'AgeAdopt', 'TotalRem', 'NumPlep',\n",
       "       'ManRem', 'PhyAbuse', 'SexAbuse', 'Neglect'],\n",
       "      dtype='object')"
      ]
     },
     "execution_count": 36,
     "metadata": {},
     "output_type": "execute_result"
    }
   ],
   "source": [
    "data.columns"
   ]
  },
  {
   "attachments": {},
   "cell_type": "markdown",
   "metadata": {},
   "source": [
    "Age on Date of Legal Adoption:\n",
    "\n",
    "The response “not applicable” is only used if the child is known to have not been previously adopted (response to variable 24 is “no”).\n",
    "\n",
    "| Value | Value Label |\n",
    "| --- | --- |\n",
    "| 0 | Not Applicable |\n",
    "| 1 | Less than 2 years old |\n",
    "| 2 | 2-5 years old |\n",
    "| 3 | 6-12 years old |\n",
    "| 4 | 13 years or older |\n",
    "| 5 | Unable to determine |\n"
   ]
  },
  {
   "cell_type": "code",
   "execution_count": 37,
   "metadata": {},
   "outputs": [
    {
     "data": {
      "text/plain": [
       "array([ 0., nan,  5.,  1.,  2.,  3.,  4.])"
      ]
     },
     "execution_count": 37,
     "metadata": {},
     "output_type": "execute_result"
    }
   ],
   "source": [
    "data['AgeAdopt'].unique()"
   ]
  },
  {
   "attachments": {},
   "cell_type": "markdown",
   "metadata": {},
   "source": [
    "Total Number of Removals from Home:\n",
    "\n",
    "The number of times the child was removed from home, including the current removal.\n"
   ]
  },
  {
   "cell_type": "code",
   "execution_count": 38,
   "metadata": {},
   "outputs": [
    {
     "data": {
      "text/plain": [
       "array([ 1.,  2.,  3.,  4.,  5.,  6., nan,  7.,  9.,  8., 10., 12., 11.])"
      ]
     },
     "execution_count": 38,
     "metadata": {},
     "output_type": "execute_result"
    }
   ],
   "source": [
    "data['TotalRem'].unique()"
   ]
  },
  {
   "attachments": {},
   "cell_type": "markdown",
   "metadata": {},
   "source": [
    "Number of Placement Settings in Current FC Episode:\n",
    "\n",
    "The number of places the child has lived, including the current setting, during the current removal episode."
   ]
  },
  {
   "cell_type": "code",
   "execution_count": 39,
   "metadata": {},
   "outputs": [
    {
     "data": {
      "text/plain": [
       "array([ 1.,  2.,  3.,  5., nan, 10.,  4.,  6.,  8.,  7., 11.,  9., 17.,\n",
       "       14., 12., 21., 26., 13., 15., 28., 19., 16., 20., 29., 22., 23.,\n",
       "       18., 24., 27., 40., 36., 32., 38., 33., 31., 30., 43., 54., 41.,\n",
       "       39., 25., 35., 45., 42., 52., 47., 34., 46., 44., 72., 37., 85.,\n",
       "       75., 90., 53., 60., 99., 50., 96., 64., 66., 57., 91., 62., 55.,\n",
       "       51., 49., 59., 56., 79., 74., 87., 70., 48., 69., 81., 67., 89.,\n",
       "       63., 61., 92., 58., 65., 88., 71., 68., 84., 86., 78., 73., 94.,\n",
       "       76., 82., 93., 95., 97.])"
      ]
     },
     "execution_count": 39,
     "metadata": {},
     "output_type": "execute_result"
    }
   ],
   "source": [
    "data['NumPlep'].unique()\n"
   ]
  },
  {
   "attachments": {},
   "cell_type": "markdown",
   "metadata": {},
   "source": [
    "Removal Manner:\n",
    "\n",
    "Manner of removal from home for current episode\n",
    "* 1 = Voluntary: An official voluntary placement agreement has been executed between the caretaker and the agency. The placement remains voluntary even if a subsequent court order is issued to continue the child in foster care.\n",
    "* 2 = Court ordered: The court has issued an order which is the basis of the child's removal.\n",
    "* 3 = Not yet determined: A voluntary placement agreement has not been signed or a court order has not been issued. This will mostly occur in very short-term cases.\n",
    "\n",
    "| Value | Value Label |\n",
    "| --- | --- |\n",
    "| 1 | Voluntary |\n",
    "| 2 | Court Ordered |\n",
    "| 3 | Not Yet Determined |"
   ]
  },
  {
   "cell_type": "code",
   "execution_count": 40,
   "metadata": {},
   "outputs": [
    {
     "data": {
      "text/plain": [
       "array([ 2.,  3.,  1., nan])"
      ]
     },
     "execution_count": 40,
     "metadata": {},
     "output_type": "execute_result"
    }
   ],
   "source": [
    "data['ManRem'].unique()\n"
   ]
  },
  {
   "attachments": {},
   "cell_type": "markdown",
   "metadata": {},
   "source": [
    "Removal Reason-Physical Abuse:\n",
    "\n",
    "As a condition associated with a child's removal from home and contact with the foster care system, alleged or substantiated physical abuse, injury or maltreatment of the child by a person responsible for the child's welfare.\n",
    "\n",
    "| Value | Value Label |\n",
    "| --- | --- |\n",
    "| 0 | Condition Does Not Apply |\n",
    "| 1 | Condition Applies |"
   ]
  },
  {
   "cell_type": "code",
   "execution_count": 41,
   "metadata": {},
   "outputs": [
    {
     "data": {
      "text/plain": [
       "array([ 0.,  1., nan])"
      ]
     },
     "execution_count": 41,
     "metadata": {},
     "output_type": "execute_result"
    }
   ],
   "source": [
    "data['PhyAbuse'].unique()\n"
   ]
  },
  {
   "attachments": {},
   "cell_type": "markdown",
   "metadata": {},
   "source": [
    "Removal Reason-Sexual Abuse:\n",
    "\n",
    "As a condition associated with a child's removal from home and contact with the foster care system, alleged or substantiated sexual abuse or exploitation of a child by a person who is responsible for the child's welfare.\n",
    "\n",
    "| Value | Value Label |\n",
    "| --- | --- |\n",
    "| 0 | Does Not Apply |\n",
    "| 1 | Applies |"
   ]
  },
  {
   "cell_type": "code",
   "execution_count": 43,
   "metadata": {},
   "outputs": [
    {
     "data": {
      "text/plain": [
       "array([ 0.,  1., nan])"
      ]
     },
     "execution_count": 43,
     "metadata": {},
     "output_type": "execute_result"
    }
   ],
   "source": [
    "data['SexAbuse'].unique()\n"
   ]
  },
  {
   "attachments": {},
   "cell_type": "markdown",
   "metadata": {},
   "source": [
    "Removal Reason-Neglect:\n",
    "\n",
    "As a condition associated with a child's removal from home and contact with the foster care system, alleged or substantiated negligent treatment or maltreatment, including failure to provide adequate food, clothing, shelter or care.\n",
    "\n",
    "| Value | Value Label |\n",
    "| --- | --- |\n",
    "| 0 | Does Not Apply |\n",
    "| 1 | Applies |"
   ]
  },
  {
   "cell_type": "code",
   "execution_count": 44,
   "metadata": {},
   "outputs": [
    {
     "data": {
      "text/plain": [
       "array([ 0.,  1., nan])"
      ]
     },
     "execution_count": 44,
     "metadata": {},
     "output_type": "execute_result"
    }
   ],
   "source": [
    "data['Neglect'].unique()\n"
   ]
  },
  {
   "attachments": {},
   "cell_type": "markdown",
   "metadata": {},
   "source": [
    "### Analysis\n"
   ]
  },
  {
   "cell_type": "code",
   "execution_count": 48,
   "metadata": {},
   "outputs": [],
   "source": [
    "data_ma = data[data['St']=='MA']"
   ]
  },
  {
   "cell_type": "code",
   "execution_count": 49,
   "metadata": {},
   "outputs": [
    {
     "data": {
      "text/html": [
       "<div>\n",
       "<style scoped>\n",
       "    .dataframe tbody tr th:only-of-type {\n",
       "        vertical-align: middle;\n",
       "    }\n",
       "\n",
       "    .dataframe tbody tr th {\n",
       "        vertical-align: top;\n",
       "    }\n",
       "\n",
       "    .dataframe thead th {\n",
       "        text-align: right;\n",
       "    }\n",
       "</style>\n",
       "<table border=\"1\" class=\"dataframe\">\n",
       "  <thead>\n",
       "    <tr style=\"text-align: right;\">\n",
       "      <th></th>\n",
       "      <th>FY</th>\n",
       "      <th>Version</th>\n",
       "      <th>State</th>\n",
       "      <th>St</th>\n",
       "      <th>RepDatYr</th>\n",
       "      <th>RepDatMo</th>\n",
       "      <th>FIPSCode</th>\n",
       "      <th>RecNumbr</th>\n",
       "      <th>Sex</th>\n",
       "      <th>AmIAKN</th>\n",
       "      <th>...</th>\n",
       "      <th>EmotDist</th>\n",
       "      <th>OtherMed</th>\n",
       "      <th>EverAdpt</th>\n",
       "      <th>AgeAdopt</th>\n",
       "      <th>TotalRem</th>\n",
       "      <th>NumPlep</th>\n",
       "      <th>ManRem</th>\n",
       "      <th>PhyAbuse</th>\n",
       "      <th>SexAbuse</th>\n",
       "      <th>Neglect</th>\n",
       "    </tr>\n",
       "  </thead>\n",
       "  <tbody>\n",
       "    <tr>\n",
       "      <th>329</th>\n",
       "      <td>2020</td>\n",
       "      <td>1</td>\n",
       "      <td>25</td>\n",
       "      <td>MA</td>\n",
       "      <td>2021</td>\n",
       "      <td>3</td>\n",
       "      <td>25017.0</td>\n",
       "      <td>000491884164</td>\n",
       "      <td>2.0</td>\n",
       "      <td>0.0</td>\n",
       "      <td>...</td>\n",
       "      <td>0.0</td>\n",
       "      <td>0.0</td>\n",
       "      <td>2.0</td>\n",
       "      <td>0.0</td>\n",
       "      <td>1.0</td>\n",
       "      <td>1.0</td>\n",
       "      <td>2.0</td>\n",
       "      <td>0.0</td>\n",
       "      <td>0.0</td>\n",
       "      <td>1.0</td>\n",
       "    </tr>\n",
       "    <tr>\n",
       "      <th>330</th>\n",
       "      <td>2020</td>\n",
       "      <td>1</td>\n",
       "      <td>25</td>\n",
       "      <td>MA</td>\n",
       "      <td>2021</td>\n",
       "      <td>3</td>\n",
       "      <td>25025.0</td>\n",
       "      <td>000492433310</td>\n",
       "      <td>2.0</td>\n",
       "      <td>0.0</td>\n",
       "      <td>...</td>\n",
       "      <td>0.0</td>\n",
       "      <td>0.0</td>\n",
       "      <td>2.0</td>\n",
       "      <td>0.0</td>\n",
       "      <td>1.0</td>\n",
       "      <td>3.0</td>\n",
       "      <td>2.0</td>\n",
       "      <td>0.0</td>\n",
       "      <td>0.0</td>\n",
       "      <td>1.0</td>\n",
       "    </tr>\n",
       "    <tr>\n",
       "      <th>331</th>\n",
       "      <td>2020</td>\n",
       "      <td>1</td>\n",
       "      <td>25</td>\n",
       "      <td>MA</td>\n",
       "      <td>2021</td>\n",
       "      <td>3</td>\n",
       "      <td>25009.0</td>\n",
       "      <td>000493212079</td>\n",
       "      <td>2.0</td>\n",
       "      <td>0.0</td>\n",
       "      <td>...</td>\n",
       "      <td>NaN</td>\n",
       "      <td>NaN</td>\n",
       "      <td>2.0</td>\n",
       "      <td>0.0</td>\n",
       "      <td>2.0</td>\n",
       "      <td>NaN</td>\n",
       "      <td>2.0</td>\n",
       "      <td>0.0</td>\n",
       "      <td>0.0</td>\n",
       "      <td>0.0</td>\n",
       "    </tr>\n",
       "    <tr>\n",
       "      <th>332</th>\n",
       "      <td>2020</td>\n",
       "      <td>1</td>\n",
       "      <td>25</td>\n",
       "      <td>MA</td>\n",
       "      <td>2021</td>\n",
       "      <td>3</td>\n",
       "      <td>25017.0</td>\n",
       "      <td>000493470741</td>\n",
       "      <td>1.0</td>\n",
       "      <td>0.0</td>\n",
       "      <td>...</td>\n",
       "      <td>1.0</td>\n",
       "      <td>0.0</td>\n",
       "      <td>2.0</td>\n",
       "      <td>0.0</td>\n",
       "      <td>2.0</td>\n",
       "      <td>2.0</td>\n",
       "      <td>2.0</td>\n",
       "      <td>0.0</td>\n",
       "      <td>0.0</td>\n",
       "      <td>0.0</td>\n",
       "    </tr>\n",
       "    <tr>\n",
       "      <th>333</th>\n",
       "      <td>2020</td>\n",
       "      <td>1</td>\n",
       "      <td>25</td>\n",
       "      <td>MA</td>\n",
       "      <td>2021</td>\n",
       "      <td>3</td>\n",
       "      <td>25013.0</td>\n",
       "      <td>000493968526</td>\n",
       "      <td>1.0</td>\n",
       "      <td>0.0</td>\n",
       "      <td>...</td>\n",
       "      <td>NaN</td>\n",
       "      <td>NaN</td>\n",
       "      <td>2.0</td>\n",
       "      <td>0.0</td>\n",
       "      <td>3.0</td>\n",
       "      <td>2.0</td>\n",
       "      <td>2.0</td>\n",
       "      <td>0.0</td>\n",
       "      <td>0.0</td>\n",
       "      <td>0.0</td>\n",
       "    </tr>\n",
       "    <tr>\n",
       "      <th>...</th>\n",
       "      <td>...</td>\n",
       "      <td>...</td>\n",
       "      <td>...</td>\n",
       "      <td>...</td>\n",
       "      <td>...</td>\n",
       "      <td>...</td>\n",
       "      <td>...</td>\n",
       "      <td>...</td>\n",
       "      <td>...</td>\n",
       "      <td>...</td>\n",
       "      <td>...</td>\n",
       "      <td>...</td>\n",
       "      <td>...</td>\n",
       "      <td>...</td>\n",
       "      <td>...</td>\n",
       "      <td>...</td>\n",
       "      <td>...</td>\n",
       "      <td>...</td>\n",
       "      <td>...</td>\n",
       "      <td>...</td>\n",
       "      <td>...</td>\n",
       "    </tr>\n",
       "    <tr>\n",
       "      <th>306105</th>\n",
       "      <td>2020</td>\n",
       "      <td>1</td>\n",
       "      <td>25</td>\n",
       "      <td>MA</td>\n",
       "      <td>2020</td>\n",
       "      <td>9</td>\n",
       "      <td>25009.0</td>\n",
       "      <td>000499997949</td>\n",
       "      <td>2.0</td>\n",
       "      <td>0.0</td>\n",
       "      <td>...</td>\n",
       "      <td>0.0</td>\n",
       "      <td>0.0</td>\n",
       "      <td>2.0</td>\n",
       "      <td>0.0</td>\n",
       "      <td>1.0</td>\n",
       "      <td>1.0</td>\n",
       "      <td>2.0</td>\n",
       "      <td>0.0</td>\n",
       "      <td>0.0</td>\n",
       "      <td>1.0</td>\n",
       "    </tr>\n",
       "    <tr>\n",
       "      <th>306106</th>\n",
       "      <td>2020</td>\n",
       "      <td>1</td>\n",
       "      <td>25</td>\n",
       "      <td>MA</td>\n",
       "      <td>2020</td>\n",
       "      <td>9</td>\n",
       "      <td>25013.0</td>\n",
       "      <td>000499998311</td>\n",
       "      <td>1.0</td>\n",
       "      <td>0.0</td>\n",
       "      <td>...</td>\n",
       "      <td>NaN</td>\n",
       "      <td>NaN</td>\n",
       "      <td>2.0</td>\n",
       "      <td>0.0</td>\n",
       "      <td>2.0</td>\n",
       "      <td>1.0</td>\n",
       "      <td>2.0</td>\n",
       "      <td>0.0</td>\n",
       "      <td>0.0</td>\n",
       "      <td>1.0</td>\n",
       "    </tr>\n",
       "    <tr>\n",
       "      <th>306107</th>\n",
       "      <td>2020</td>\n",
       "      <td>1</td>\n",
       "      <td>25</td>\n",
       "      <td>MA</td>\n",
       "      <td>2020</td>\n",
       "      <td>3</td>\n",
       "      <td>25027.0</td>\n",
       "      <td>000499999194</td>\n",
       "      <td>1.0</td>\n",
       "      <td>0.0</td>\n",
       "      <td>...</td>\n",
       "      <td>0.0</td>\n",
       "      <td>0.0</td>\n",
       "      <td>2.0</td>\n",
       "      <td>0.0</td>\n",
       "      <td>3.0</td>\n",
       "      <td>2.0</td>\n",
       "      <td>2.0</td>\n",
       "      <td>0.0</td>\n",
       "      <td>0.0</td>\n",
       "      <td>0.0</td>\n",
       "    </tr>\n",
       "    <tr>\n",
       "      <th>306108</th>\n",
       "      <td>2020</td>\n",
       "      <td>1</td>\n",
       "      <td>25</td>\n",
       "      <td>MA</td>\n",
       "      <td>2020</td>\n",
       "      <td>3</td>\n",
       "      <td>25027.0</td>\n",
       "      <td>000499999198</td>\n",
       "      <td>2.0</td>\n",
       "      <td>0.0</td>\n",
       "      <td>...</td>\n",
       "      <td>0.0</td>\n",
       "      <td>0.0</td>\n",
       "      <td>2.0</td>\n",
       "      <td>0.0</td>\n",
       "      <td>3.0</td>\n",
       "      <td>2.0</td>\n",
       "      <td>2.0</td>\n",
       "      <td>0.0</td>\n",
       "      <td>0.0</td>\n",
       "      <td>0.0</td>\n",
       "    </tr>\n",
       "    <tr>\n",
       "      <th>306109</th>\n",
       "      <td>2020</td>\n",
       "      <td>1</td>\n",
       "      <td>25</td>\n",
       "      <td>MA</td>\n",
       "      <td>2020</td>\n",
       "      <td>3</td>\n",
       "      <td>8.0</td>\n",
       "      <td>000499999212</td>\n",
       "      <td>1.0</td>\n",
       "      <td>0.0</td>\n",
       "      <td>...</td>\n",
       "      <td>0.0</td>\n",
       "      <td>0.0</td>\n",
       "      <td>2.0</td>\n",
       "      <td>0.0</td>\n",
       "      <td>1.0</td>\n",
       "      <td>1.0</td>\n",
       "      <td>2.0</td>\n",
       "      <td>0.0</td>\n",
       "      <td>0.0</td>\n",
       "      <td>1.0</td>\n",
       "    </tr>\n",
       "  </tbody>\n",
       "</table>\n",
       "<p>14289 rows × 30 columns</p>\n",
       "</div>"
      ],
      "text/plain": [
       "          FY  Version  State  St  RepDatYr  RepDatMo  FIPSCode      RecNumbr  \\\n",
       "329     2020        1     25  MA      2021         3   25017.0  000491884164   \n",
       "330     2020        1     25  MA      2021         3   25025.0  000492433310   \n",
       "331     2020        1     25  MA      2021         3   25009.0  000493212079   \n",
       "332     2020        1     25  MA      2021         3   25017.0  000493470741   \n",
       "333     2020        1     25  MA      2021         3   25013.0  000493968526   \n",
       "...      ...      ...    ...  ..       ...       ...       ...           ...   \n",
       "306105  2020        1     25  MA      2020         9   25009.0  000499997949   \n",
       "306106  2020        1     25  MA      2020         9   25013.0  000499998311   \n",
       "306107  2020        1     25  MA      2020         3   25027.0  000499999194   \n",
       "306108  2020        1     25  MA      2020         3   25027.0  000499999198   \n",
       "306109  2020        1     25  MA      2020         3       8.0  000499999212   \n",
       "\n",
       "        Sex  AmIAKN  ...  EmotDist  OtherMed  EverAdpt  AgeAdopt  TotalRem  \\\n",
       "329     2.0     0.0  ...       0.0       0.0       2.0       0.0       1.0   \n",
       "330     2.0     0.0  ...       0.0       0.0       2.0       0.0       1.0   \n",
       "331     2.0     0.0  ...       NaN       NaN       2.0       0.0       2.0   \n",
       "332     1.0     0.0  ...       1.0       0.0       2.0       0.0       2.0   \n",
       "333     1.0     0.0  ...       NaN       NaN       2.0       0.0       3.0   \n",
       "...     ...     ...  ...       ...       ...       ...       ...       ...   \n",
       "306105  2.0     0.0  ...       0.0       0.0       2.0       0.0       1.0   \n",
       "306106  1.0     0.0  ...       NaN       NaN       2.0       0.0       2.0   \n",
       "306107  1.0     0.0  ...       0.0       0.0       2.0       0.0       3.0   \n",
       "306108  2.0     0.0  ...       0.0       0.0       2.0       0.0       3.0   \n",
       "306109  1.0     0.0  ...       0.0       0.0       2.0       0.0       1.0   \n",
       "\n",
       "        NumPlep  ManRem  PhyAbuse  SexAbuse  Neglect  \n",
       "329         1.0     2.0       0.0       0.0      1.0  \n",
       "330         3.0     2.0       0.0       0.0      1.0  \n",
       "331         NaN     2.0       0.0       0.0      0.0  \n",
       "332         2.0     2.0       0.0       0.0      0.0  \n",
       "333         2.0     2.0       0.0       0.0      0.0  \n",
       "...         ...     ...       ...       ...      ...  \n",
       "306105      1.0     2.0       0.0       0.0      1.0  \n",
       "306106      1.0     2.0       0.0       0.0      1.0  \n",
       "306107      2.0     2.0       0.0       0.0      0.0  \n",
       "306108      2.0     2.0       0.0       0.0      0.0  \n",
       "306109      1.0     2.0       0.0       0.0      1.0  \n",
       "\n",
       "[14289 rows x 30 columns]"
      ]
     },
     "execution_count": 49,
     "metadata": {},
     "output_type": "execute_result"
    }
   ],
   "source": [
    "data_ma\n"
   ]
  },
  {
   "cell_type": "code",
   "execution_count": 77,
   "metadata": {},
   "outputs": [
    {
     "data": {
      "text/plain": [
       "Index(['FY', 'Version', 'State', 'St', 'RepDatYr', 'RepDatMo', 'FIPSCode',\n",
       "       'RecNumbr', 'Sex', 'AmIAKN', 'Asian', 'BlkAfrAm', 'HawaiiPI', 'White',\n",
       "       'UnToDetm', 'HisOrgin', 'ClinDis', 'MR', 'VisHear', 'PhyDis',\n",
       "       'EmotDist', 'OtherMed', 'EverAdpt', 'AgeAdopt', 'TotalRem', 'NumPlep',\n",
       "       'ManRem', 'PhyAbuse', 'SexAbuse', 'Neglect'],\n",
       "      dtype='object')"
      ]
     },
     "execution_count": 77,
     "metadata": {},
     "output_type": "execute_result"
    }
   ],
   "source": [
    "data_ma.columns"
   ]
  },
  {
   "cell_type": "code",
   "execution_count": 78,
   "metadata": {},
   "outputs": [
    {
     "name": "stdout",
     "output_type": "stream",
     "text": [
      "FY\n",
      "2020    14289\n",
      "Name: RecNumbr, dtype: int64\n",
      "Null count:  0\n",
      "Version\n",
      "1    14289\n",
      "Name: RecNumbr, dtype: int64\n",
      "Null count:  0\n",
      "State\n",
      "25    14289\n",
      "Name: RecNumbr, dtype: int64\n",
      "Null count:  0\n",
      "St\n",
      "MA    14289\n",
      "Name: RecNumbr, dtype: int64\n",
      "Null count:  0\n",
      "RepDatYr\n",
      "2020    14048\n",
      "2021      241\n",
      "Name: RecNumbr, dtype: int64\n",
      "Null count:  0\n",
      "RepDatMo\n",
      "3     2879\n",
      "9    11410\n",
      "Name: RecNumbr, dtype: int64\n",
      "Null count:  0\n",
      "FIPSCode\n",
      "8.0        2733\n",
      "25005.0    1814\n",
      "25009.0    1484\n",
      "25013.0    2155\n",
      "25017.0    1627\n",
      "25025.0    1796\n",
      "25027.0    2680\n",
      "Name: RecNumbr, dtype: int64\n",
      "Null count:  0\n",
      "RecNumbr\n",
      "000490093038    1\n",
      "000490210507    1\n",
      "000490290507    1\n",
      "000490375585    1\n",
      "000490400250    1\n",
      "               ..\n",
      "000499997949    1\n",
      "000499998311    1\n",
      "000499999194    1\n",
      "000499999198    1\n",
      "000499999212    1\n",
      "Name: RecNumbr, Length: 14289, dtype: int64\n",
      "Null count:  0\n",
      "Sex\n",
      "1.0    7296\n",
      "2.0    6988\n",
      "Name: RecNumbr, dtype: int64\n",
      "Null count:  5\n",
      "AmIAKN\n",
      "0.0    13993\n",
      "1.0      295\n",
      "Name: RecNumbr, dtype: int64\n",
      "Null count:  1\n",
      "Asian\n",
      "0.0    14053\n",
      "1.0      235\n",
      "Name: RecNumbr, dtype: int64\n",
      "Null count:  1\n",
      "BlkAfrAm\n",
      "0.0    10401\n",
      "1.0     3887\n",
      "Name: RecNumbr, dtype: int64\n",
      "Null count:  1\n",
      "HawaiiPI\n",
      "0.0    14246\n",
      "1.0       42\n",
      "Name: RecNumbr, dtype: int64\n",
      "Null count:  1\n",
      "White\n",
      "0.0    4567\n",
      "1.0    9721\n",
      "Name: RecNumbr, dtype: int64\n",
      "Null count:  1\n",
      "UnToDetm\n",
      "0.0    12525\n",
      "1.0     1763\n",
      "Name: RecNumbr, dtype: int64\n",
      "Null count:  1\n",
      "HisOrgin\n",
      "1.0    4627\n",
      "2.0    8840\n",
      "3.0     821\n",
      "Name: RecNumbr, dtype: int64\n",
      "Null count:  1\n",
      "ClinDis\n",
      "1.0     2925\n",
      "2.0    10163\n",
      "3.0      310\n",
      "Name: RecNumbr, dtype: int64\n",
      "Null count:  891\n",
      "MR\n",
      "0.0    13016\n",
      "1.0       72\n",
      "Name: RecNumbr, dtype: int64\n",
      "Null count:  1201\n",
      "VisHear\n",
      "0.0    12883\n",
      "1.0      205\n",
      "Name: RecNumbr, dtype: int64\n",
      "Null count:  1201\n",
      "PhyDis\n",
      "0.0    12988\n",
      "1.0      100\n",
      "Name: RecNumbr, dtype: int64\n",
      "Null count:  1201\n",
      "EmotDist\n",
      "0.0    11343\n",
      "1.0     1745\n",
      "Name: RecNumbr, dtype: int64\n",
      "Null count:  1201\n",
      "OtherMed\n",
      "0.0    11627\n",
      "1.0     1461\n",
      "Name: RecNumbr, dtype: int64\n",
      "Null count:  1201\n",
      "EverAdpt\n",
      "1.0      294\n",
      "2.0    13522\n",
      "3.0      473\n",
      "Name: RecNumbr, dtype: int64\n",
      "Null count:  0\n",
      "AgeAdopt\n",
      "0.0    13522\n",
      "1.0       35\n",
      "2.0      137\n",
      "3.0      111\n",
      "4.0       11\n",
      "5.0      473\n",
      "Name: RecNumbr, dtype: int64\n",
      "Null count:  0\n",
      "TotalRem\n",
      "1.0    10525\n",
      "2.0     2811\n",
      "3.0      759\n",
      "4.0      137\n",
      "5.0       42\n",
      "6.0       14\n",
      "9.0        1\n",
      "Name: RecNumbr, dtype: int64\n",
      "Null count:  0\n",
      "NumPlep\n",
      "1.0     4409\n",
      "2.0     3279\n",
      "3.0     1875\n",
      "4.0     1218\n",
      "5.0      856\n",
      "6.0      559\n",
      "7.0      473\n",
      "8.0      326\n",
      "9.0      260\n",
      "10.0     194\n",
      "11.0     163\n",
      "12.0     135\n",
      "13.0     103\n",
      "14.0      78\n",
      "15.0      74\n",
      "16.0      46\n",
      "17.0      36\n",
      "18.0      25\n",
      "19.0      29\n",
      "20.0      22\n",
      "21.0      21\n",
      "22.0      10\n",
      "23.0      16\n",
      "24.0      10\n",
      "25.0      11\n",
      "26.0       3\n",
      "27.0       8\n",
      "28.0       6\n",
      "29.0       3\n",
      "30.0       2\n",
      "31.0       3\n",
      "32.0       1\n",
      "33.0       2\n",
      "34.0       1\n",
      "35.0       4\n",
      "36.0       1\n",
      "37.0       2\n",
      "39.0       2\n",
      "41.0       2\n",
      "45.0       1\n",
      "49.0       1\n",
      "Name: RecNumbr, dtype: int64\n",
      "Null count:  19\n",
      "ManRem\n",
      "1.0      498\n",
      "2.0    13703\n",
      "3.0       84\n",
      "Name: RecNumbr, dtype: int64\n",
      "Null count:  4\n",
      "PhyAbuse\n",
      "0.0    13172\n",
      "1.0     1117\n",
      "Name: RecNumbr, dtype: int64\n",
      "Null count:  0\n",
      "SexAbuse\n",
      "0.0    14028\n",
      "1.0      261\n",
      "Name: RecNumbr, dtype: int64\n",
      "Null count:  0\n",
      "Neglect\n",
      "0.0    4433\n",
      "1.0    9856\n",
      "Name: RecNumbr, dtype: int64\n",
      "Null count:  0\n"
     ]
    }
   ],
   "source": [
    "for i in data_ma.columns:\n",
    "    print(data_ma.groupby(i)['RecNumbr'].count())\n",
    "    print(\"Null count: \", data_ma[i].isnull().sum())"
   ]
  },
  {
   "cell_type": "code",
   "execution_count": null,
   "metadata": {},
   "outputs": [],
   "source": []
  }
 ],
 "metadata": {
  "kernelspec": {
   "display_name": "Python 3",
   "language": "python",
   "name": "python3"
  },
  "language_info": {
   "codemirror_mode": {
    "name": "ipython",
    "version": 3
   },
   "file_extension": ".py",
   "mimetype": "text/x-python",
   "name": "python",
   "nbconvert_exporter": "python",
   "pygments_lexer": "ipython3",
   "version": "3.9.6"
  },
  "orig_nbformat": 4
 },
 "nbformat": 4,
 "nbformat_minor": 2
}
