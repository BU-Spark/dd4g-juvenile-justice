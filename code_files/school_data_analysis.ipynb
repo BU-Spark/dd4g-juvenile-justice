{
 "cells": [
  {
   "cell_type": "code",
   "execution_count": 1,
   "metadata": {},
   "outputs": [],
   "source": [
    "import pandas as pd"
   ]
  },
  {
   "cell_type": "code",
   "execution_count": 3,
   "metadata": {},
   "outputs": [],
   "source": [
    "data = pd.read_excel(\"../data/SchoolBasedArrestData_MA.xlsx\")"
   ]
  },
  {
   "cell_type": "code",
   "execution_count": 16,
   "metadata": {},
   "outputs": [
    {
     "name": "stdout",
     "output_type": "stream",
     "text": [
      "<class 'pandas.core.frame.DataFrame'>\n",
      "RangeIndex: 7965 entries, 0 to 7964\n",
      "Data columns (total 13 columns):\n",
      " #   Column     Non-Null Count  Dtype \n",
      "---  ------     --------------  ----- \n",
      " 0   Charge     7965 non-null   object\n",
      " 1   Year       7965 non-null   object\n",
      " 2   Month      7965 non-null   object\n",
      " 3   Age        7965 non-null   object\n",
      " 4   Sex        7965 non-null   object\n",
      " 5   Race       7965 non-null   object\n",
      " 6   Ethnicity  7965 non-null   object\n",
      " 7   School     7965 non-null   object\n",
      " 8   Student    7965 non-null   object\n",
      " 9   Category   7965 non-null   object\n",
      " 10  Time       7965 non-null   object\n",
      " 11  Location   7965 non-null   object\n",
      " 12  Region     7965 non-null   object\n",
      "dtypes: object(13)\n",
      "memory usage: 809.1+ KB\n"
     ]
    }
   ],
   "source": [
    "data.info()\n"
   ]
  },
  {
   "cell_type": "code",
   "execution_count": 6,
   "metadata": {},
   "outputs": [
    {
     "data": {
      "text/plain": [
       "605"
      ]
     },
     "execution_count": 6,
     "metadata": {},
     "output_type": "execute_result"
    }
   ],
   "source": [
    "data['Charge'].nunique()"
   ]
  },
  {
   "cell_type": "code",
   "execution_count": 7,
   "metadata": {},
   "outputs": [
    {
     "data": {
      "text/plain": [
       "8"
      ]
     },
     "execution_count": 7,
     "metadata": {},
     "output_type": "execute_result"
    }
   ],
   "source": [
    "data['Year'].nunique()\n"
   ]
  },
  {
   "cell_type": "code",
   "execution_count": 9,
   "metadata": {},
   "outputs": [
    {
     "data": {
      "text/plain": [
       "array([9, 10, 12, 2, 4, 5, 6, 11, 1, 3, 'Missing', 7, 8], dtype=object)"
      ]
     },
     "execution_count": 9,
     "metadata": {},
     "output_type": "execute_result"
    }
   ],
   "source": [
    "data['Month'].unique()"
   ]
  },
  {
   "cell_type": "code",
   "execution_count": 10,
   "metadata": {},
   "outputs": [
    {
     "data": {
      "text/plain": [
       "array([17, 16, 19, 14, 41, 13, 38, 15, 18, 28, 12, 29, 39, 33, 36, 30, 25,\n",
       "       20, 27, 35, 'Missing', 37, 42, 3070, 26, 8, 22, 40, 7, 10, 11,\n",
       "       4050, 56, 31, 50, 32, 0, 64, 77, 3040, 9, 34, 3050, 2540, 3, 6, 60,\n",
       "       51, 72, 58, 4060, 5, 54, 65, 6070, 48, 45, 78, 75, 49, 57, 47, 43,\n",
       "       63, 4, 3540, 46, 73, 44, 21, 23, 55, 24, 1, 52, 53, 59, 'missing',\n",
       "       69, 99, 71, 4555, 2035, 4045], dtype=object)"
      ]
     },
     "execution_count": 10,
     "metadata": {},
     "output_type": "execute_result"
    }
   ],
   "source": [
    "data['Age'].unique()\n"
   ]
  },
  {
   "cell_type": "code",
   "execution_count": 11,
   "metadata": {},
   "outputs": [
    {
     "data": {
      "text/html": [
       "<div>\n",
       "<style scoped>\n",
       "    .dataframe tbody tr th:only-of-type {\n",
       "        vertical-align: middle;\n",
       "    }\n",
       "\n",
       "    .dataframe tbody tr th {\n",
       "        vertical-align: top;\n",
       "    }\n",
       "\n",
       "    .dataframe thead th {\n",
       "        text-align: right;\n",
       "    }\n",
       "</style>\n",
       "<table border=\"1\" class=\"dataframe\">\n",
       "  <thead>\n",
       "    <tr style=\"text-align: right;\">\n",
       "      <th></th>\n",
       "      <th>Charge</th>\n",
       "      <th>Year</th>\n",
       "      <th>Month</th>\n",
       "      <th>Age</th>\n",
       "      <th>Sex</th>\n",
       "      <th>Race</th>\n",
       "      <th>Ethnicity</th>\n",
       "      <th>School</th>\n",
       "      <th>Student</th>\n",
       "      <th>Category</th>\n",
       "      <th>Time</th>\n",
       "      <th>Location</th>\n",
       "      <th>Region</th>\n",
       "    </tr>\n",
       "  </thead>\n",
       "  <tbody>\n",
       "    <tr>\n",
       "      <th>0</th>\n",
       "      <td>VANDALIZE PROPERTY c266 Â§126A</td>\n",
       "      <td>2020</td>\n",
       "      <td>9</td>\n",
       "      <td>17</td>\n",
       "      <td>M</td>\n",
       "      <td>W</td>\n",
       "      <td>H</td>\n",
       "      <td>WILEY SCHOOL</td>\n",
       "      <td>N</td>\n",
       "      <td>F</td>\n",
       "      <td>2015</td>\n",
       "      <td>NORTH MAIN</td>\n",
       "      <td>Fall River</td>\n",
       "    </tr>\n",
       "    <tr>\n",
       "      <th>1</th>\n",
       "      <td>BURGLARIOUS INSTRUMENT POSSESS</td>\n",
       "      <td>2020</td>\n",
       "      <td>9</td>\n",
       "      <td>17</td>\n",
       "      <td>M</td>\n",
       "      <td>W</td>\n",
       "      <td>H</td>\n",
       "      <td>WILEY SCHOOL</td>\n",
       "      <td>N</td>\n",
       "      <td>F</td>\n",
       "      <td>2015</td>\n",
       "      <td>NORTH MAIN</td>\n",
       "      <td>Fall River</td>\n",
       "    </tr>\n",
       "    <tr>\n",
       "      <th>2</th>\n",
       "      <td>ATTEMPT TO COMMIT CRIME</td>\n",
       "      <td>2020</td>\n",
       "      <td>9</td>\n",
       "      <td>17</td>\n",
       "      <td>M</td>\n",
       "      <td>W</td>\n",
       "      <td>H</td>\n",
       "      <td>WILEY SCHOOL</td>\n",
       "      <td>N</td>\n",
       "      <td>M</td>\n",
       "      <td>2015</td>\n",
       "      <td>NORTH MAIN</td>\n",
       "      <td>Fall River</td>\n",
       "    </tr>\n",
       "    <tr>\n",
       "      <th>3</th>\n",
       "      <td>VANDALIZE PROPERTY c266 Â§126A</td>\n",
       "      <td>2020</td>\n",
       "      <td>9</td>\n",
       "      <td>16</td>\n",
       "      <td>M</td>\n",
       "      <td>W</td>\n",
       "      <td>N</td>\n",
       "      <td>WILEY SCHOOL</td>\n",
       "      <td>N</td>\n",
       "      <td>F</td>\n",
       "      <td>2015</td>\n",
       "      <td>NORTH MAIN</td>\n",
       "      <td>Fall River</td>\n",
       "    </tr>\n",
       "    <tr>\n",
       "      <th>4</th>\n",
       "      <td>BURGLARIOUS INSTRUMENT POSSESS</td>\n",
       "      <td>2020</td>\n",
       "      <td>9</td>\n",
       "      <td>16</td>\n",
       "      <td>M</td>\n",
       "      <td>W</td>\n",
       "      <td>N</td>\n",
       "      <td>WILEY SCHOOL</td>\n",
       "      <td>N</td>\n",
       "      <td>F</td>\n",
       "      <td>2015</td>\n",
       "      <td>NORTH MAIN</td>\n",
       "      <td>Fall River</td>\n",
       "    </tr>\n",
       "  </tbody>\n",
       "</table>\n",
       "</div>"
      ],
      "text/plain": [
       "                           Charge  Year Month Age Sex Race Ethnicity  \\\n",
       "0  VANDALIZE PROPERTY c266 Â§126A  2020     9  17   M    W         H   \n",
       "1  BURGLARIOUS INSTRUMENT POSSESS  2020     9  17   M    W         H   \n",
       "2         ATTEMPT TO COMMIT CRIME  2020     9  17   M    W         H   \n",
       "3  VANDALIZE PROPERTY c266 Â§126A  2020     9  16   M    W         N   \n",
       "4  BURGLARIOUS INSTRUMENT POSSESS  2020     9  16   M    W         N   \n",
       "\n",
       "         School Student Category  Time    Location      Region  \n",
       "0  WILEY SCHOOL       N        F  2015  NORTH MAIN  Fall River  \n",
       "1  WILEY SCHOOL       N        F  2015  NORTH MAIN  Fall River  \n",
       "2  WILEY SCHOOL       N        M  2015  NORTH MAIN  Fall River  \n",
       "3  WILEY SCHOOL       N        F  2015  NORTH MAIN  Fall River  \n",
       "4  WILEY SCHOOL       N        F  2015  NORTH MAIN  Fall River  "
      ]
     },
     "execution_count": 11,
     "metadata": {},
     "output_type": "execute_result"
    }
   ],
   "source": [
    "data.head()\n"
   ]
  },
  {
   "cell_type": "code",
   "execution_count": 28,
   "metadata": {},
   "outputs": [
    {
     "data": {
      "text/plain": [
       "605"
      ]
     },
     "execution_count": 28,
     "metadata": {},
     "output_type": "execute_result"
    }
   ],
   "source": [
    "data['Charge'].nunique()"
   ]
  },
  {
   "cell_type": "code",
   "execution_count": 12,
   "metadata": {},
   "outputs": [
    {
     "data": {
      "text/plain": [
       "array(['M', 'F', 'Missing', 'U', 'Female', 'Male', 'Unknown',\n",
       "       'Male to Female Transgender', 'missing'], dtype=object)"
      ]
     },
     "execution_count": 12,
     "metadata": {},
     "output_type": "execute_result"
    }
   ],
   "source": [
    "data['Sex'].unique()"
   ]
  },
  {
   "cell_type": "code",
   "execution_count": 13,
   "metadata": {},
   "outputs": [
    {
     "data": {
      "text/plain": [
       "array(['H', 'N', 'U', 'Missing', 'White', 'Hispanic', 'Black', 'Asian',\n",
       "       'WHITE ', 'Unknown', 'INDIAN', 'Non-Hispanic', 'Unavailble',\n",
       "       'Not of Hispanic Origin', 'Hispanic Origin', 'Non Hispanic',\n",
       "       'Not Hispanic', 'missing'], dtype=object)"
      ]
     },
     "execution_count": 13,
     "metadata": {},
     "output_type": "execute_result"
    }
   ],
   "source": [
    "data['Ethnicity'].unique()"
   ]
  },
  {
   "cell_type": "code",
   "execution_count": 15,
   "metadata": {},
   "outputs": [
    {
     "data": {
      "text/plain": [
       "103"
      ]
     },
     "execution_count": 15,
     "metadata": {},
     "output_type": "execute_result"
    }
   ],
   "source": [
    "data['School'].nunique()"
   ]
  },
  {
   "cell_type": "code",
   "execution_count": 18,
   "metadata": {},
   "outputs": [
    {
     "data": {
      "text/plain": [
       "array(['N', 'Missing', 'Yes', 'No', 'Unk', 'Unavailable', 'Y', 'y',\n",
       "       'missing'], dtype=object)"
      ]
     },
     "execution_count": 18,
     "metadata": {},
     "output_type": "execute_result"
    }
   ],
   "source": [
    "data['Student'].unique()"
   ]
  },
  {
   "cell_type": "code",
   "execution_count": 19,
   "metadata": {},
   "outputs": [
    {
     "data": {
      "text/plain": [
       "array(['F', 'M', 'O', 'V', 'COURT REFERRAL', 'ARREST',\n",
       "       'SCHOOL DISCIPLINE', 'Arrest', 'Summons', 'Missing',\n",
       "       'Incident Response', 'SIMPLE ASSAULT', 'WEAPON VIOLATIONS',\n",
       "       'AGGRAVATED ASSAULT', 'THREATS', 'INDECENT ASSAULT', 'TRESPASSING',\n",
       "       'JUVENILE ISSUE/ CHINS', 'ALARM', 'PORNOGRAPHY',\n",
       "       'FUGITIVE/WARRANT', 'THEFT FROM BUILDING', 'DRUG OFFENSES',\n",
       "       'STOLEN PROPERTY', 'ROBBERY', 'VANDALISM', 'JUVENILE ISSUE/CHINS',\n",
       "       'PSYCHIATRIC', 'DISORDERLY', 'Section 12 to Morton',\n",
       "       'Discipline Handled By the School', 'PROTECTIVE CUSTODY',\n",
       "       'WARRANT', 'COURTESY BOOKING', 'Referral', 'T', 'S', 'missing'],\n",
       "      dtype=object)"
      ]
     },
     "execution_count": 19,
     "metadata": {},
     "output_type": "execute_result"
    }
   ],
   "source": [
    "data['Category'].unique()"
   ]
  },
  {
   "cell_type": "code",
   "execution_count": 20,
   "metadata": {},
   "outputs": [
    {
     "data": {
      "text/html": [
       "<div>\n",
       "<style scoped>\n",
       "    .dataframe tbody tr th:only-of-type {\n",
       "        vertical-align: middle;\n",
       "    }\n",
       "\n",
       "    .dataframe tbody tr th {\n",
       "        vertical-align: top;\n",
       "    }\n",
       "\n",
       "    .dataframe thead th {\n",
       "        text-align: right;\n",
       "    }\n",
       "</style>\n",
       "<table border=\"1\" class=\"dataframe\">\n",
       "  <thead>\n",
       "    <tr style=\"text-align: right;\">\n",
       "      <th></th>\n",
       "      <th>Charge</th>\n",
       "      <th>Year</th>\n",
       "      <th>Month</th>\n",
       "      <th>Age</th>\n",
       "      <th>Sex</th>\n",
       "      <th>Race</th>\n",
       "      <th>Ethnicity</th>\n",
       "      <th>School</th>\n",
       "      <th>Student</th>\n",
       "      <th>Category</th>\n",
       "      <th>Time</th>\n",
       "      <th>Location</th>\n",
       "      <th>Region</th>\n",
       "    </tr>\n",
       "  </thead>\n",
       "  <tbody>\n",
       "    <tr>\n",
       "      <th>0</th>\n",
       "      <td>VANDALIZE PROPERTY c266 Â§126A</td>\n",
       "      <td>2020</td>\n",
       "      <td>9</td>\n",
       "      <td>17</td>\n",
       "      <td>M</td>\n",
       "      <td>W</td>\n",
       "      <td>H</td>\n",
       "      <td>WILEY SCHOOL</td>\n",
       "      <td>N</td>\n",
       "      <td>F</td>\n",
       "      <td>2015</td>\n",
       "      <td>NORTH MAIN</td>\n",
       "      <td>Fall River</td>\n",
       "    </tr>\n",
       "    <tr>\n",
       "      <th>1</th>\n",
       "      <td>BURGLARIOUS INSTRUMENT POSSESS</td>\n",
       "      <td>2020</td>\n",
       "      <td>9</td>\n",
       "      <td>17</td>\n",
       "      <td>M</td>\n",
       "      <td>W</td>\n",
       "      <td>H</td>\n",
       "      <td>WILEY SCHOOL</td>\n",
       "      <td>N</td>\n",
       "      <td>F</td>\n",
       "      <td>2015</td>\n",
       "      <td>NORTH MAIN</td>\n",
       "      <td>Fall River</td>\n",
       "    </tr>\n",
       "    <tr>\n",
       "      <th>2</th>\n",
       "      <td>ATTEMPT TO COMMIT CRIME</td>\n",
       "      <td>2020</td>\n",
       "      <td>9</td>\n",
       "      <td>17</td>\n",
       "      <td>M</td>\n",
       "      <td>W</td>\n",
       "      <td>H</td>\n",
       "      <td>WILEY SCHOOL</td>\n",
       "      <td>N</td>\n",
       "      <td>M</td>\n",
       "      <td>2015</td>\n",
       "      <td>NORTH MAIN</td>\n",
       "      <td>Fall River</td>\n",
       "    </tr>\n",
       "    <tr>\n",
       "      <th>3</th>\n",
       "      <td>VANDALIZE PROPERTY c266 Â§126A</td>\n",
       "      <td>2020</td>\n",
       "      <td>9</td>\n",
       "      <td>16</td>\n",
       "      <td>M</td>\n",
       "      <td>W</td>\n",
       "      <td>N</td>\n",
       "      <td>WILEY SCHOOL</td>\n",
       "      <td>N</td>\n",
       "      <td>F</td>\n",
       "      <td>2015</td>\n",
       "      <td>NORTH MAIN</td>\n",
       "      <td>Fall River</td>\n",
       "    </tr>\n",
       "    <tr>\n",
       "      <th>4</th>\n",
       "      <td>BURGLARIOUS INSTRUMENT POSSESS</td>\n",
       "      <td>2020</td>\n",
       "      <td>9</td>\n",
       "      <td>16</td>\n",
       "      <td>M</td>\n",
       "      <td>W</td>\n",
       "      <td>N</td>\n",
       "      <td>WILEY SCHOOL</td>\n",
       "      <td>N</td>\n",
       "      <td>F</td>\n",
       "      <td>2015</td>\n",
       "      <td>NORTH MAIN</td>\n",
       "      <td>Fall River</td>\n",
       "    </tr>\n",
       "  </tbody>\n",
       "</table>\n",
       "</div>"
      ],
      "text/plain": [
       "                           Charge  Year Month Age Sex Race Ethnicity  \\\n",
       "0  VANDALIZE PROPERTY c266 Â§126A  2020     9  17   M    W         H   \n",
       "1  BURGLARIOUS INSTRUMENT POSSESS  2020     9  17   M    W         H   \n",
       "2         ATTEMPT TO COMMIT CRIME  2020     9  17   M    W         H   \n",
       "3  VANDALIZE PROPERTY c266 Â§126A  2020     9  16   M    W         N   \n",
       "4  BURGLARIOUS INSTRUMENT POSSESS  2020     9  16   M    W         N   \n",
       "\n",
       "         School Student Category  Time    Location      Region  \n",
       "0  WILEY SCHOOL       N        F  2015  NORTH MAIN  Fall River  \n",
       "1  WILEY SCHOOL       N        F  2015  NORTH MAIN  Fall River  \n",
       "2  WILEY SCHOOL       N        M  2015  NORTH MAIN  Fall River  \n",
       "3  WILEY SCHOOL       N        F  2015  NORTH MAIN  Fall River  \n",
       "4  WILEY SCHOOL       N        F  2015  NORTH MAIN  Fall River  "
      ]
     },
     "execution_count": 20,
     "metadata": {},
     "output_type": "execute_result"
    }
   ],
   "source": [
    "data.head()"
   ]
  },
  {
   "cell_type": "code",
   "execution_count": 22,
   "metadata": {},
   "outputs": [
    {
     "data": {
      "text/plain": [
       "1071"
      ]
     },
     "execution_count": 22,
     "metadata": {},
     "output_type": "execute_result"
    }
   ],
   "source": [
    "data['Time'].nunique()"
   ]
  },
  {
   "attachments": {},
   "cell_type": "markdown",
   "metadata": {},
   "source": [
    "Is time column important? -> because year shows 2020 but time is 2015 ?"
   ]
  },
  {
   "cell_type": "code",
   "execution_count": 24,
   "metadata": {},
   "outputs": [
    {
     "data": {
      "text/plain": [
       "array(['NORTH MAIN', 'ROCK', 'MELROSE', 'JEFFERSON', 'HOOD', 'MAPLE',\n",
       "       'MERIDIAN', 'ELSBREE', 'LAMPHOR', 'STONEHAVEN', 'PARK', 'TECUMSEH',\n",
       "       'BERGERON', 'AMITY', 'BARNES', 'HAMLET', 'GLOBE MILLS',\n",
       "       'PRESIDENT', 'ROCKLAND', 'QUEQUECHAN', 'FOUNTAIN', 'FOURTH', 'RAY',\n",
       "       'CAMBRIDGE', 'EASTERN', 'BRANCH', 'PEARCE', 'COUNTY', 'WALL',\n",
       "       'DOVER', '2172 PLEASANT STREET', 'BARNABY', 'SLADE', 'STEVENS',\n",
       "       'GLOBE', 'ESSEX', 'FREEDOM', 'ANTHONY', 'LINDEN', 'HUTTON',\n",
       "       'Missing', 'REVERE HIGH SCHOOL', 'SUSAN B. ANTHONY',\n",
       "       'RUMNEY MARSH MIDDLE', 'SEACOAST MIDDLE/HIGH', 'BEACHMONT SCHOOL',\n",
       "       'GARFIELD SCHOOL', '150 Glen Street', '201 Willow Avenue',\n",
       "       '81 Highland Ave', '290 Washington Street', '5 Middlesex Ave',\n",
       "       '50 Cross Street', '5 Meachem Street', '177 Powderhouse Blvd',\n",
       "       'SYCAMORE ST', 'HIGHLAND AV', 'CROSS ST', 'MEACHAM ST',\n",
       "       'POWDER HOUSE BLVD', 'GLEN ST', 'CHERRY ST', 'WASHINGTON ST',\n",
       "       'WILLOW AV', 'BONAIR ST', 'OTIS ST', 'BMC DURFEE HIGH SCHOOL',\n",
       "       'WILEY SCHOOL', 'KATHLEEN HARRINGTON (ATLANTIS CHARTER SCHOOL)',\n",
       "       'RESILIENCY SCHOOL (RPS) REAR OF SCHOOL',\n",
       "       'ALTERNATIVE HIGH SCHOOL', 'ATLANTIS CHARTER SCHOOL',\n",
       "       'TALBOT MIDDLE SCHOOL', 'DORAN SCHOOL', 'GREENE SCHOOL',\n",
       "       'BMC DURFEE', 'ARGOSY COLLEGIATE H.S.', 'STONE THERAPUTIC SCHOOL',\n",
       "       'DIMAN REG TECH VOC HIGH SCHOOL', 'HENRY LORD MIDDLE SCHOOL',\n",
       "       'SPENCER BORDEN SCHOOL', 'MORTON MIDDLE SCHOOL',\n",
       "       'RESILIENCY SCHOOL (RPS)', 'FONSECA (MARY L) SCHOOL',\n",
       "       'KUSS (MATTHEW J) MIDDLE SCHOOL', 'FONSECA',\n",
       "       'VIVEIROS (CARLTON M) SCHOOL', 'FRANK M SILVIA SCHOOL',\n",
       "       'SAMUEL WATSON ELEMENTARY SCHOOL', \"SAINT MICHAEL'S SCHOOL\",\n",
       "       'BISHOP CONNOLLY HIGH SCHOOL', 'EAST GATE CHRISTAIN ACADEMY',\n",
       "       'HOLY TRINITY SCHOOL', 'LETERNEAU SCHOOL', 'FONSECA SCHOOL',\n",
       "       'GREEN SCHOOL CAMBRIDGE ST', '33G ROLLING GREEN DR',\n",
       "       '15 PAPINEAU ST', '161 LOWER WESTFIELD RD', '1045 MAIN ST',\n",
       "       '851 MAIN ST Apt. #2L', '51 ADAMS ST', '317 MAPLE ST',\n",
       "       '500 BEECH ST', 'PAIGE ST', 'FATHER MORISSETTE BLVD', 'JUNE ST',\n",
       "       'GORHAM ST', 'DRAPER ST', 'SMITH ST', 'WOBURN ST', 'MAMMOTH RD',\n",
       "       'FLEMING ST', 'Broadway St ', 'ENNELL ST', 'HIGHLAND ST',\n",
       "       'FR MORISSETTE BLVD', 'RMS ALTERNATIVE SCHOOL',\n",
       "       'FALL RIVER RPS - 290 ROCK', 'ARGOSY CHARTER SCHOOL',\n",
       "       'WATSON SCHOOL', 'MORTON MIDDLE',\n",
       "       'ATLANTIS CHARTER SCHOOL PARK ST', 'WALK IN',\n",
       "       'FONSECA (MARY L) SCHOOL/WALK IN CAR 5', 'NORTH PARK-SKATE PARK',\n",
       "       'FALL RIVER DEACONESS HOME', \"DAVE'S BEACH BOAT RAMP\",\n",
       "       \"SAINT ANNE'S HOSPITAL\", 'BRISTOL COMMUNITY COLLEGE ELSBREE',\n",
       "       '93 TECUMSEH ST', 'RISILIENCY PREPARATORY ACADEMY',\n",
       "       'FALL RIVER TALBOT MIDDLE SCHOOL', 'HOLY NAME SCHOOL',\n",
       "       'SPENCER BORDEN', 'TANSEY SCHOOL',\n",
       "       'WALK IN SRO8/SRO9 - STONE THERAPUTIC SCHOOL',\n",
       "       'ALDRICH SCHOOL HEAD START', 'RPA ALTERNATIVE SCHOOL',\n",
       "       'BARNES STREET', 'RESILIENCY PREPARATORY ACADEMY (RPA)',\n",
       "       'ARGOSY COLLEGIATE SCHOOL', 'RESILIENCY PREPARATORY ACADEMY',\n",
       "       'FRANK M. SILVIA', '750 WINTER ST, KEEFE TECH',\n",
       "       '115 A ST, FRAMINGHAM HIGH SCHOOL',\n",
       "       '116 A ST, FRAMINGHAM HIGH SCHOOL',\n",
       "       '117 A ST, FRAMINGHAM HIGH SCHOOL',\n",
       "       '118 A ST, FRAMINGHAM HIGH SCHOOL',\n",
       "       '119 A ST, FRAMINGHAM HIGH SCHOOL',\n",
       "       '120 A ST, FRAMINGHAM HIGH SCHOOL',\n",
       "       '169 LELAND ST, HARMONY GROVE E', '115 A ST, FRAMINGHAM HIGH SCHO',\n",
       "       '301 BROOK ST, WALSH MIDDLE SCH', '100 DUDLEY RD, BARBIERI SCHOOL',\n",
       "       '48 FROST ST, DUNNING SCHOOL', '139 NEWBURY ST, CHRISTA MCAULI',\n",
       "       '215 ELM ST, CAMERON MIDDLE SCH', '29 UPPER JOCLYN AV, JUNIPER SC',\n",
       "       '8 FLAGG DR, MCCARTHY SCHOOL', '575 PLEASANT ST, BROPHY SCHOOL',\n",
       "       '454 WATER ST, KING SCHOOL', '492 POTTER RD, POTTER RD SCHOO',\n",
       "       '31 FLAGG DR, FULLER MIDDLE SCH', '139 NEWBURY ST',\n",
       "       '25 ELM ST, STAPLETON SCHOOL', '848 CENTRAL ST, LEARNING CENTE',\n",
       "       '729 WATER ST, HEMENWAY SCHOOL', '29 UPPER JOCLYN AV, BLOCKS PRE',\n",
       "       '139 NEWBURY ST FLR M116, CHRIS', '139 NEWBURY ST, BG MARKETING I',\n",
       "       '50 LAWRENCE ST, THAYER SCHOOL', '750 WINTER ST',\n",
       "       '25 ELM ST APT 303, STAPLETON S', 'Taunton', 'Lynn', 'SouthBridge',\n",
       "       'missing', 'CALDWELL ALTERNATIVE SCHOOL', 'SIZER SCHOOL',\n",
       "       'MCKAY SCHOOL', '100 ELM ST', '22 CHURCH ST'], dtype=object)"
      ]
     },
     "execution_count": 24,
     "metadata": {},
     "output_type": "execute_result"
    }
   ],
   "source": [
    "data['Location'].unique()"
   ]
  },
  {
   "cell_type": "code",
   "execution_count": 26,
   "metadata": {},
   "outputs": [
    {
     "data": {
      "text/plain": [
       "array(['Fall River', 'Methuen', 'Quincy', 'Revere', 'Somerville',\n",
       "       'Missing', 'MA', 'RI', 'Boston', 'Holyoke', 'Lawrence', 'Lowell',\n",
       "       'FALL RIVER', 'NEW BEDFORD', 'Taunton', 'Lynn', 'SouthBridge',\n",
       "       'missing', 'FORT KNOX', 'SOMERSET', 'NORTH ATTLEBORO', 'WESTPORT',\n",
       "       'COLUMBIA', 'SWANSEA', 'GRAFTON', 'PROVIDENCE', 'RIVERSIDE',\n",
       "       'ATTLEBORO', 'ASSONET', 'DARTMOUTH', 'UNKNOWN', 'TAUNTON',\n",
       "       'BROCKTON', 'FREETOWN', 'MEDWAY', 'Fitchburg', 'Everett'],\n",
       "      dtype=object)"
      ]
     },
     "execution_count": 26,
     "metadata": {},
     "output_type": "execute_result"
    }
   ],
   "source": [
    "data['Region'].unique()"
   ]
  },
  {
   "cell_type": "code",
   "execution_count": 29,
   "metadata": {},
   "outputs": [
    {
     "data": {
      "text/plain": [
       "Index(['Charge', 'Year', 'Month', 'Age', 'Sex', 'Race', 'Ethnicity', 'School',\n",
       "       'Student', 'Category', 'Time', 'Location', 'Region'],\n",
       "      dtype='object')"
      ]
     },
     "execution_count": 29,
     "metadata": {},
     "output_type": "execute_result"
    }
   ],
   "source": [
    "data.columns"
   ]
  },
  {
   "cell_type": "code",
   "execution_count": 30,
   "metadata": {},
   "outputs": [
    {
     "data": {
      "text/plain": [
       "array(['WILEY SCHOOL', 'ALTERNATIVE HIGH SCHOOL', 'TALBOT MIDDLE SCHOOL',\n",
       "       'ATLANTIS CHARTER SCHOOL', 'MORTON MIDDLE SCHOOL',\n",
       "       'STONE THERAPUTIC SCHOOL', 'FRANK M SILVIA SCHOOL',\n",
       "       'BMC DURFEE HIGH SCHOOL', 'HOLY TRINITY SCHOOL',\n",
       "       'DIMAN REG TECH VOC HIGH SCHOOL', 'RMS ALTERNATIVE SCHOOL',\n",
       "       'ATLANTIS CHARTER SCHOOL PARK ST', 'FALL RIVER RPS - 290 ROCK',\n",
       "       'BRISTOL COMMUNITY COLLEGE ELSBREE', '93 TECUMSEH ST',\n",
       "       'FALL RIVER TALBOT MIDDLE SCHOOL', 'HENRY LORD MIDDLE SCHOOL',\n",
       "       'BARNES STREET', 'ARGOSY COLLEGIATE SCHOOL',\n",
       "       'KUSS (MATTHEW J) MIDDLE SCHOOL', 'SPENCER BORDEN SCHOOL',\n",
       "       'GREENE SCHOOL', 'BMC DURFEE HIGH SCHOOL *** SEE COMMENTS ***',\n",
       "       'WATSON SCHOOL', 'BISHOP CONNOLLY HIGH SCHOOL',\n",
       "       'RESILIENCY SCHOOL (RPS)', 'HOLY NAME SCHOOL', 'DURFEE RPA',\n",
       "       'DORAN SCHOOL', 'FONSECA (MARY L) SCHOOL',\n",
       "       'ARGOSY COLLEGIATE H.S.', 'WATSON ELEMENTARY SCHOOL', 'DORAN',\n",
       "       'ARGOSY CHARTER SCHOOL', 'VIVEIROS (CARLTON M) SCHOOL',\n",
       "       'B.M.C. DURFEE HIGH SCHOOL', \"SAINT MICHAEL'S SCHOOL\",\n",
       "       'KUSS MIDDLE SCHOOL', 'WALK IN--ARGOSY COLLEGIATE H.S.',\n",
       "       'SUNSET HILL', 'PAPA GINOS', 'DURFEE HIGH SCHOOL', 'WALK IN---',\n",
       "       'RPA', 'LETOURNEAU ELEMENTARY SCHOOL',\n",
       "       'MORTON MIDDLE SCHOOL/WALK IN', 'B.M.C. DURFEE',\n",
       "       'LETERNEAU SCHOOL', 'BMC DURFEE HIGH SCHOOL FOOTBALL FIELD',\n",
       "       'FONSECA SCHOOL', 'Missing', 'Winter Hill Community School',\n",
       "       'SHS New & Old', 'East Somerville Community School',\n",
       "       'Healey School', 'West Somerville Neighborhood School',\n",
       "       'Capuano School', 'Kennedy School', 'Argenziano School',\n",
       "       'Brown School', 'Full Circle (OLD)', 'EWT SCHOOL',\n",
       "       'PAULO FREIRE SOCIAL JUSTICE CHARTER SCHOOL', 'DEAN TECH',\n",
       "       'SPRINGDALE EDUCATION CENTER SCHOOL', 'HOLYOKE HIGH SCHOOL',\n",
       "       'LOWELL HIGH SCHOOL', 'ROBINSON SCHOOL', 'BUTLER MIDDLE SCHOOL',\n",
       "       'LEBLANC SCHOOL', 'SULLIVAN SCHOOL', 'LOWELL CAREER ACADEMY',\n",
       "       'BRIDGE PROGRAM', 'ROBINSON', 'McAvinnue', 'DALEY    SCHOOL',\n",
       "       'Stoklosa School', 'GREENHALGE SCHOOL',\n",
       "       'LOWELL HIGHSCHOOL FRESHMAN', 'ROGERS SCHOOL', 'missing',\n",
       "       'HENRY LORD', 'UNKNOWN', 'WALK IN FOR CAR 12', 'TANSEY SCHOOL',\n",
       "       'DIMAN LPN MODULAR CLASSROOM',\n",
       "       'CHARLTON MEMORIAL HOSPITAL EMERGENCY ROOM', 'DIMAN',\n",
       "       'STONE THERAPUTIC DAY SCHOOL', 'LINCOLN SCHOOL',\n",
       "       'KATHLEEN HARRINGTON (ATLANTIS CHARTER SCHOOL)',\n",
       "       'RESILIENCY SCHOOL (RPS) REAR OF SCHOOL', 'BMC DURFEE', 'FONSECA',\n",
       "       'SAMUEL WATSON ELEMENTARY SCHOOL', 'EAST GATE CHRISTAIN ACADEMY',\n",
       "       'GREEN SCHOOL CAMBRIDGE ST', '33G ROLLING GREEN DR',\n",
       "       'CALDWELL ALTERNATIVE SCHOOL', 'SIZER SCHOOL', 'MCKAY SCHOOL',\n",
       "       'Everett High School', 'DEVINS SCHOOL'], dtype=object)"
      ]
     },
     "execution_count": 30,
     "metadata": {},
     "output_type": "execute_result"
    }
   ],
   "source": [
    "data['School'].unique()"
   ]
  },
  {
   "cell_type": "code",
   "execution_count": 31,
   "metadata": {},
   "outputs": [
    {
     "data": {
      "text/plain": [
       "array(['Fall River', 'Methuen', 'Quincy', 'Revere', 'Somerville',\n",
       "       'Missing', 'MA', 'RI', 'Boston', 'Holyoke', 'Lawrence', 'Lowell',\n",
       "       'FALL RIVER', 'NEW BEDFORD', 'Taunton', 'Lynn', 'SouthBridge',\n",
       "       'missing', 'FORT KNOX', 'SOMERSET', 'NORTH ATTLEBORO', 'WESTPORT',\n",
       "       'COLUMBIA', 'SWANSEA', 'GRAFTON', 'PROVIDENCE', 'RIVERSIDE',\n",
       "       'ATTLEBORO', 'ASSONET', 'DARTMOUTH', 'UNKNOWN', 'TAUNTON',\n",
       "       'BROCKTON', 'FREETOWN', 'MEDWAY', 'Fitchburg', 'Everett'],\n",
       "      dtype=object)"
      ]
     },
     "execution_count": 31,
     "metadata": {},
     "output_type": "execute_result"
    }
   ],
   "source": [
    "data['Region'].unique()"
   ]
  },
  {
   "cell_type": "code",
   "execution_count": 32,
   "metadata": {},
   "outputs": [],
   "source": [
    "data['Region'] = data['Region'].apply(lambda x: x.upper())"
   ]
  },
  {
   "cell_type": "code",
   "execution_count": 33,
   "metadata": {},
   "outputs": [
    {
     "data": {
      "text/plain": [
       "array(['FALL RIVER', 'METHUEN', 'QUINCY', 'REVERE', 'SOMERVILLE',\n",
       "       'MISSING', 'MA', 'RI', 'BOSTON', 'HOLYOKE', 'LAWRENCE', 'LOWELL',\n",
       "       'NEW BEDFORD', 'TAUNTON', 'LYNN', 'SOUTHBRIDGE', 'FORT KNOX',\n",
       "       'SOMERSET', 'NORTH ATTLEBORO', 'WESTPORT', 'COLUMBIA', 'SWANSEA',\n",
       "       'GRAFTON', 'PROVIDENCE', 'RIVERSIDE', 'ATTLEBORO', 'ASSONET',\n",
       "       'DARTMOUTH', 'UNKNOWN', 'BROCKTON', 'FREETOWN', 'MEDWAY',\n",
       "       'FITCHBURG', 'EVERETT'], dtype=object)"
      ]
     },
     "execution_count": 33,
     "metadata": {},
     "output_type": "execute_result"
    }
   ],
   "source": [
    "data['Region'].unique()"
   ]
  },
  {
   "cell_type": "code",
   "execution_count": null,
   "metadata": {},
   "outputs": [],
   "source": []
  }
 ],
 "metadata": {
  "kernelspec": {
   "display_name": "Python 3",
   "language": "python",
   "name": "python3"
  },
  "language_info": {
   "codemirror_mode": {
    "name": "ipython",
    "version": 3
   },
   "file_extension": ".py",
   "mimetype": "text/x-python",
   "name": "python",
   "nbconvert_exporter": "python",
   "pygments_lexer": "ipython3",
   "version": "3.9.6"
  },
  "orig_nbformat": 4
 },
 "nbformat": 4,
 "nbformat_minor": 2
}
